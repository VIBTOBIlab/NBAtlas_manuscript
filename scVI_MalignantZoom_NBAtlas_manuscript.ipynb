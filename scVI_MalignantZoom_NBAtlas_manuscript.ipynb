{
 "cells": [
  {
   "cell_type": "code",
   "execution_count": null,
   "id": "94e70efe",
   "metadata": {},
   "outputs": [],
   "source": [
    "import scvi\n",
    "\n",
    "import scanpy as sc\n",
    "import scipy as sp\n",
    "import pandas as pd\n",
    "import matplotlib.pyplot as plt\n",
    "import random\n",
    "import numpy as np\n",
    "import os\n",
    "import torch\n",
    "import sys\n",
    "from datetime import datetime\n",
    "\n",
    "from matplotlib import pyplot as plt\n",
    "from datetime import datetime\n",
    "\n",
    "scvi.settings.progress_bar_style = \"tqdm\"\n",
    "\n",
    "# for white background of figures (only for docs rendering)\n",
    "%config InlineBackend.print_figure_kwargs={'facecolor' : \"w\"}\n",
    "%config InlineBackend.figure_format='retina'\n",
    "\n",
    "#hpc figures\n",
    "%matplotlib inline\n",
    "\n",
    "from IPython.core.interactiveshell import InteractiveShell\n",
    "InteractiveShell.ast_node_interactivity = \"all\" # print multiple outputs per code cell (not just last)"
   ]
  },
  {
   "cell_type": "code",
   "execution_count": null,
   "id": "7ba6361d",
   "metadata": {},
   "outputs": [],
   "source": [
    "sc.set_figure_params(figsize=(4, 4), dpi=100, dpi_save=300)"
   ]
  },
  {
   "cell_type": "code",
   "execution_count": null,
   "id": "65a24ce6",
   "metadata": {},
   "outputs": [],
   "source": [
    "nCores = 8\n",
    "sc.settings.n_jobs = nCores #nCores\n",
    "scvi.settings.num_threads = nCores # nThreads for PyTorch"
   ]
  },
  {
   "cell_type": "code",
   "execution_count": null,
   "id": "940c51c7",
   "metadata": {},
   "outputs": [],
   "source": [
    "def set_seed(seed):\n",
    "    random.seed(seed)\n",
    "    np.random.seed(seed)\n",
    "    torch.manual_seed(seed)\n",
    "    scvi.settings.seed = seed # scvi-tools seed\n",
    "    os.environ[\"PYTHONHASHSEED\"] = str(seed)\n",
    "\n",
    "    if torch.cuda.is_available():\n",
    "        torch.cuda.manual_seed(seed)\n",
    "        torch.cuda.manual_seed_all(seed)\n",
    "        torch.backends.cudnn.deterministic = True\n",
    "        torch.backends.cudnn.benchmark = False\n",
    "\n",
    "set_seed(123)"
   ]
  },
  {
   "cell_type": "code",
   "execution_count": null,
   "id": "1ff2b872",
   "metadata": {},
   "outputs": [],
   "source": [
    "!cd /scratch/gent/vo/000/gvo00027/projects/Single_Cell_Neuroblastoma/NBAtlas\n",
    "os.getcwd()"
   ]
  },
  {
   "cell_type": "code",
   "execution_count": null,
   "id": "17c5ca2d",
   "metadata": {},
   "outputs": [],
   "source": [
    "output_dir = \"09a_scVI_MalignantZoom_NBAtlas/\"\n",
    "os.makedirs(output_dir, exist_ok=True)\n",
    "\n",
    "output_tables = output_dir + \"/Tables/\"\n",
    "os.makedirs(output_tables, exist_ok=True)\n",
    "\n",
    "output_figures = output_dir + \"/Figures/\"\n",
    "os.makedirs(output_figures, exist_ok=True)"
   ]
  },
  {
   "cell_type": "code",
   "execution_count": null,
   "id": "5efff2d7",
   "metadata": {},
   "outputs": [],
   "source": [
    "sc.settings.figdir = output_figures"
   ]
  },
  {
   "cell_type": "code",
   "execution_count": null,
   "id": "cfdee1fc",
   "metadata": {},
   "outputs": [],
   "source": [
    "sc.settings.verbosity = 4"
   ]
  },
  {
   "cell_type": "code",
   "execution_count": null,
   "id": "07dabe06",
   "metadata": {},
   "outputs": [],
   "source": [
    "# mem check\n",
    "ipython_vars = ['In', 'Out', 'exit', 'quit', 'get_ipython', 'ipython_vars']\n",
    "# get memory in bytes\n",
    "mem = {\n",
    "    key: value\n",
    "    for key, value in sorted(\n",
    "        [\n",
    "            (x, sys.getsizeof(globals().get(x)))\n",
    "            for x in dir()\n",
    "            if not x.startswith(\"_\") and x not in sys.modules and x not in ipython_vars\n",
    "        ],\n",
    "        key=lambda x: x[1],\n",
    "        reverse=True,\n",
    "    )\n",
    "}\n",
    "mem"
   ]
  },
  {
   "cell_type": "markdown",
   "id": "994bbb6b",
   "metadata": {},
   "source": [
    "# Import data"
   ]
  },
  {
   "cell_type": "code",
   "execution_count": null,
   "id": "711251d9",
   "metadata": {},
   "outputs": [],
   "source": [
    "adata = sc.read('02_Create_AnndataObj_NBAtlas/nb_adata_NBAtlas.h5ad')\n",
    "adata"
   ]
  },
  {
   "cell_type": "markdown",
   "id": "f778477a",
   "metadata": {},
   "source": [
    "## Subset malignant NE cells"
   ]
  },
  {
   "cell_type": "code",
   "execution_count": null,
   "id": "6d4e3b01",
   "metadata": {},
   "outputs": [],
   "source": [
    "malignant_cells = pd.read_csv(\"06c_post_scVI_TumorZoom_R_plots_NBAtlas/Tables/06c_post_scVI_TumorZoom_R_plots_covSampleCopyKAT_MalignantCells_NBAtlas.csv\", \n",
    "                       index_col=0)\n",
    "malignant_cells"
   ]
  },
  {
   "cell_type": "code",
   "execution_count": null,
   "id": "69062b36",
   "metadata": {},
   "outputs": [],
   "source": [
    "malignant_cells[\"x\"].to_list()"
   ]
  },
  {
   "cell_type": "code",
   "execution_count": null,
   "id": "6c8eaf41",
   "metadata": {},
   "outputs": [],
   "source": [
    "adata = adata[adata.obs_names.isin(malignant_cells[\"x\"].to_list())]\n",
    "adata"
   ]
  },
  {
   "cell_type": "code",
   "execution_count": null,
   "id": "76e23f3e",
   "metadata": {},
   "outputs": [],
   "source": [
    "adata.layers[\"counts\"] = adata.X.copy() # preserve counts\n",
    "sc.pp.normalize_total(adata, target_sum=1e4)\n",
    "sc.pp.log1p(adata)\n",
    "adata.raw = adata # freeze the state (with all genes) in `.raw`"
   ]
  },
  {
   "cell_type": "code",
   "execution_count": null,
   "id": "d112a110",
   "metadata": {},
   "outputs": [],
   "source": [
    "adata"
   ]
  },
  {
   "cell_type": "code",
   "execution_count": null,
   "id": "a0f7eb94",
   "metadata": {},
   "outputs": [],
   "source": [
    "# save adata before taking HVGs\n",
    "sc.write(adata=adata, \n",
    "        filename = output_dir + 'MalignantZoom_adata_a_NoInt_norm_full_all_genes_NBAtlas.h5ad') #this is adata_full see below"
   ]
  },
  {
   "cell_type": "code",
   "execution_count": null,
   "id": "247fffa9",
   "metadata": {},
   "outputs": [],
   "source": [
    "adata = sc.read(output_dir + \"MalignantZoom_adata_a_NoInt_norm_full_all_genes_NBAtlas.h5ad\")"
   ]
  },
  {
   "cell_type": "code",
   "execution_count": null,
   "id": "eca7446d",
   "metadata": {},
   "outputs": [],
   "source": [
    "sc.pp.highly_variable_genes(\n",
    "    adata,\n",
    "    n_top_genes=5000, \n",
    "    subset=True,\n",
    "    layer=\"counts\",\n",
    "    flavor=\"seurat\",\n",
    "    batch_key=\"Study\" \n",
    ")\n",
    "adata"
   ]
  },
  {
   "cell_type": "code",
   "execution_count": null,
   "id": "2bdcb9ef",
   "metadata": {},
   "outputs": [],
   "source": [
    "sc.tl.pca(adata)\n",
    "sc.pl.pca_variance_ratio(adata, n_pcs=50)"
   ]
  },
  {
   "cell_type": "code",
   "execution_count": null,
   "id": "ba0d61e5",
   "metadata": {},
   "outputs": [],
   "source": [
    "sc.pp.neighbors(adata, n_pcs=20, n_neighbors=20)\n",
    "sc.tl.umap(adata, min_dist=0.6)"
   ]
  },
  {
   "cell_type": "code",
   "execution_count": null,
   "id": "3408016a",
   "metadata": {},
   "outputs": [],
   "source": [
    "adata"
   ]
  },
  {
   "cell_type": "code",
   "execution_count": null,
   "id": "e0f2380e",
   "metadata": {},
   "outputs": [],
   "source": [
    "sc.pl.umap(\n",
    "    adata,\n",
    "    color = [\"Study\"],\n",
    "    save = \"09_UMAP_MalignantZoom_a_NoInt_Study_NBAtlas.png\"\n",
    ")"
   ]
  },
  {
   "cell_type": "code",
   "execution_count": null,
   "id": "24690c61",
   "metadata": {},
   "outputs": [],
   "source": [
    "sc.pl.umap(\n",
    "    adata,\n",
    "    color = [\"Assay\"],\n",
    "    save = \"09_UMAP_MalignantZoom_a_NoInt_Assay_NBAtlas.png\"\n",
    ")"
   ]
  },
  {
   "cell_type": "code",
   "execution_count": null,
   "id": "dce44308",
   "metadata": {},
   "outputs": [],
   "source": [
    "sc.pl.umap(\n",
    "    adata,\n",
    "    color = [\"Sample\"],\n",
    "    save = \"09_UMAP_MalignantZoom_a_NoInt_Sample_NBAtlas.png\"\n",
    ")"
   ]
  },
  {
   "cell_type": "code",
   "execution_count": null,
   "id": "3909e388",
   "metadata": {},
   "outputs": [],
   "source": [
    "adata.write_h5ad(output_dir + \"MalignantZoom_adata_b_NoInt_5000hvg_NBAtlas.h5ad\")"
   ]
  },
  {
   "cell_type": "code",
   "execution_count": null,
   "id": "c0ce5e14",
   "metadata": {},
   "outputs": [],
   "source": [
    "adata = sc.read(output_dir + \"MalignantZoom_adata_b_NoInt_5000hvg_NBAtlas.h5ad\")"
   ]
  },
  {
   "cell_type": "code",
   "execution_count": null,
   "id": "37a67361",
   "metadata": {},
   "outputs": [],
   "source": [
    "scvi.model.SCVI.setup_anndata(\n",
    "    adata,\n",
    "    layer = \"counts\",\n",
    "    batch_key = \"Sample\"\n",
    ")\n",
    "adata"
   ]
  },
  {
   "cell_type": "code",
   "execution_count": null,
   "id": "11ee8b22",
   "metadata": {},
   "outputs": [],
   "source": [
    "model_kwargs = {\n",
    "    \"encode_covariates\": True,\n",
    "    \"deeply_inject_covariates\": False, \n",
    "    \"use_layer_norm\": \"both\",\n",
    "    \"use_batch_norm\": \"none\"\n",
    "}\n",
    "\n",
    "model = scvi.model.SCVI(adata,    \n",
    "    n_layers=2 \n",
    "    )\n",
    "\n",
    "model"
   ]
  },
  {
   "cell_type": "code",
   "execution_count": null,
   "id": "2cc25f85",
   "metadata": {},
   "outputs": [],
   "source": [
    "# early_stopping_kwargs\n",
    "trainer_kwargs = {\n",
    "    \"save_best_state_metric\": \"elbo\", \n",
    "    \"early_stopping_patience\": 10, #quicker stopping\n",
    "    \"threshold\": 0, \n",
    "    \"reduce_lr_on_plateau\": True, \n",
    "}\n",
    "\n",
    "loss_kwargs = {\n",
    "    \"lr_patience\": 8, \n",
    "    \"lr_factor\": 0.1   \n",
    "}"
   ]
  },
  {
   "cell_type": "code",
   "execution_count": null,
   "id": "2331e82c",
   "metadata": {},
   "outputs": [],
   "source": [
    "model.view_anndata_setup() #check model"
   ]
  },
  {
   "cell_type": "code",
   "execution_count": null,
   "id": "e8effaac",
   "metadata": {},
   "outputs": [],
   "source": [
    "print(\"Start =\", datetime.now().strftime(\"%H:%M:%S\"))\n",
    "\n",
    "model.train(max_epochs = 500, early_stopping=True)\n",
    "\n",
    "print(\"End =\", datetime.now().strftime(\"%H:%M:%S\"))"
   ]
  },
  {
   "cell_type": "code",
   "execution_count": null,
   "id": "5b20a963",
   "metadata": {},
   "outputs": [],
   "source": [
    "model.save(output_dir + \"09a_scVI_MalignantZoom_model_covSample_2layers_NBAtlas/\", overwrite=True)"
   ]
  },
  {
   "cell_type": "code",
   "execution_count": null,
   "id": "aad78d0f",
   "metadata": {},
   "outputs": [],
   "source": [
    "#reload\n",
    "model = scvi.model.SCVI.load(dir_path=output_dir + \"09a_scVI_MalignantZoom_model_covSample_2layers_NBAtlas/\", adata=adata, use_gpu=True)"
   ]
  },
  {
   "cell_type": "code",
   "execution_count": null,
   "id": "f4123d0a",
   "metadata": {},
   "outputs": [],
   "source": [
    "#plot\n",
    "plt.plot(model.history[\"elbo_train\"], label=\"train\") #elbo_train_set\n",
    "plt.plot(model.history[\"elbo_validation\"], label=\"test\")\n",
    "plt.title(\"Negative ELBO over training epochs\")\n",
    "plt.legend()"
   ]
  },
  {
   "cell_type": "code",
   "execution_count": null,
   "id": "d6974f5f",
   "metadata": {},
   "outputs": [],
   "source": [
    "adata.obsm['X_pca_NoInt'] = adata.obsm['X_pca'].copy()\n",
    "adata.obsm['X_umap_NoInt'] = adata.obsm['X_umap'].copy()"
   ]
  },
  {
   "cell_type": "code",
   "execution_count": null,
   "id": "54a8dd0f",
   "metadata": {},
   "outputs": [],
   "source": [
    "adata.obsm[\"X_scVI\"] = model.get_latent_representation() #store in adata\n",
    "denoised_genes = model.get_normalized_expression( # store denoised values\n",
    "    library_size=10e4,\n",
    "    n_samples=1 \n",
    ")\n",
    "adata.layers[\"scvi_normalized\"] = denoised_genes\n",
    "adata.layers[\"scvi_normalized\"] = sp.sparse.csr_matrix(adata.layers[\"scvi_normalized\"])"
   ]
  },
  {
   "cell_type": "code",
   "execution_count": null,
   "id": "9fae95ac",
   "metadata": {},
   "outputs": [],
   "source": [
    "sc.pp.neighbors(adata, n_pcs=15, n_neighbors=20, use_rep = \"X_scVI\")\n",
    "sc.tl.umap(adata, min_dist = 0.6)"
   ]
  },
  {
   "cell_type": "code",
   "execution_count": null,
   "id": "4328c190",
   "metadata": {},
   "outputs": [],
   "source": [
    "sc.pl.umap(\n",
    "    adata,\n",
    "    color = [\"Study\"],\n",
    "    save = \"09_UMAP_MalignantZoom_c_scVI_covSample_2layers_Study_NBAtlas.png\"\n",
    ")"
   ]
  },
  {
   "cell_type": "code",
   "execution_count": null,
   "id": "b11a9809",
   "metadata": {},
   "outputs": [],
   "source": [
    "sc.pl.umap(\n",
    "    adata,\n",
    "    color = [\"Assay\"],\n",
    "    save = \"09_UMAP_MalignantZoom_c_scVI_covSample_2layers_Assay_NBAtlas.png\"\n",
    ")"
   ]
  },
  {
   "cell_type": "code",
   "execution_count": null,
   "id": "e5384b60",
   "metadata": {},
   "outputs": [],
   "source": [
    "sc.pl.umap(\n",
    "    adata,\n",
    "    color = [\"Sample\"],\n",
    "    save = \"09_UMAP_MalignantZoom_c_scVI_covSample_2layers_Sample_NBAtlas.png\"\n",
    ")"
   ]
  },
  {
   "cell_type": "code",
   "execution_count": null,
   "id": "49f507cc",
   "metadata": {},
   "outputs": [],
   "source": [
    "sc.tl.leiden(adata, key_added = \"leiden_scVI_res0p5\", resolution = 0.5)"
   ]
  },
  {
   "cell_type": "code",
   "execution_count": null,
   "id": "6dfdde37",
   "metadata": {},
   "outputs": [],
   "source": [
    "sc.pl.umap(\n",
    "    adata,\n",
    "    color = [\"leiden_scVI_res0p5\"],\n",
    "    save = \"09_UMAP_MalignantZoom_c_scVI_covSample_2layers_LeidenClustRes0p5_NBAtlas.png\"\n",
    ")"
   ]
  },
  {
   "cell_type": "code",
   "execution_count": null,
   "id": "7848c79a",
   "metadata": {},
   "outputs": [],
   "source": [
    "sc.tl.leiden(adata, key_added = \"leiden_scVI_res1\", resolution = 1)"
   ]
  },
  {
   "cell_type": "code",
   "execution_count": null,
   "id": "d5b0ad09",
   "metadata": {},
   "outputs": [],
   "source": [
    "sc.pl.umap(\n",
    "    adata,\n",
    "    color = [\"leiden_scVI_res1\"],\n",
    "    save = \"09_UMAP_MalignantZoom_c_scVI_covSample_2layers_LeidenClustRes1_NBAtlas.png\"\n",
    ")"
   ]
  },
  {
   "cell_type": "code",
   "execution_count": null,
   "id": "20f61388",
   "metadata": {},
   "outputs": [],
   "source": [
    "sc.tl.leiden(adata, key_added = \"leiden_scVI_res2\", resolution = 2)"
   ]
  },
  {
   "cell_type": "code",
   "execution_count": null,
   "id": "f4b93c02",
   "metadata": {},
   "outputs": [],
   "source": [
    "sc.pl.umap(\n",
    "    adata,\n",
    "    color = [\"leiden_scVI_res2\"],\n",
    "    save = \"09_UMAP_MalignantZoom_c_scVI_covSample_2layers_LeidenClustRes2_NBAtlas.png\"\n",
    ")"
   ]
  },
  {
   "cell_type": "code",
   "execution_count": null,
   "id": "64eccf2a",
   "metadata": {},
   "outputs": [],
   "source": [
    "# Save\n",
    "adata.write_h5ad(output_dir + \"MalignantZoom_adata_c_covSample_2layers_NBAtlas.h5ad\")"
   ]
  },
  {
   "cell_type": "code",
   "execution_count": null,
   "id": "29b1b431",
   "metadata": {},
   "outputs": [],
   "source": [
    "# Reload\n",
    "adata = sc.read(output_dir + \"MalignantZoom_adata_c_covSample_2layers_NBAtlas.h5ad\")"
   ]
  }
 ],
 "metadata": {
  "kernelspec": {
   "display_name": "Python 3 (ipykernel)",
   "language": "python",
   "name": "python3"
  },
  "language_info": {
   "codemirror_mode": {
    "name": "ipython",
    "version": 3
   },
   "file_extension": ".py",
   "mimetype": "text/x-python",
   "name": "python",
   "nbconvert_exporter": "python",
   "pygments_lexer": "ipython3",
   "version": "3.9.5"
  }
 },
 "nbformat": 4,
 "nbformat_minor": 5
}
