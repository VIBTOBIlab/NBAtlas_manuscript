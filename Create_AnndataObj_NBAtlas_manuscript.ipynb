{
 "cells": [
  {
   "cell_type": "code",
   "execution_count": null,
   "id": "e0308d03",
   "metadata": {},
   "outputs": [],
   "source": [
    "import scvi\n",
    "\n",
    "import scanpy as sc\n",
    "import scipy as sp\n",
    "import pandas as pd\n",
    "import matplotlib.pyplot as plt\n",
    "import random\n",
    "import numpy as np\n",
    "import os\n",
    "import torch\n",
    "import sys\n",
    "from datetime import datetime\n",
    "\n",
    "sc.set_figure_params(figsize=(4,4))\n",
    "sc.set_figure_params(dpi=200)\n",
    "sc.settings.n_jobs = 1 #nCores/CPUs for scanpy\n",
    "scvi.settings.progress_bar_style = \"tqdm\"\n",
    "\n",
    "# for white background of figures (only for docs rendering)\n",
    "%config InlineBackend.print_figure_kwargs={'facecolor' : \"w\"}\n",
    "%config InlineBackend.figure_format='retina'\n",
    "\n",
    "#hpc figures\n",
    "%matplotlib inline\n",
    "\n",
    "from IPython.core.interactiveshell import InteractiveShell\n",
    "InteractiveShell.ast_node_interactivity = \"all\" # print multiple outputs per code cell (not just last)"
   ]
  },
  {
   "cell_type": "code",
   "execution_count": null,
   "id": "7b8df10e",
   "metadata": {},
   "outputs": [],
   "source": [
    "def set_seed(seed):\n",
    "    random.seed(seed)\n",
    "    np.random.seed(seed)\n",
    "    torch.manual_seed(seed)\n",
    "    scvi.settings.seed = seed # scvi-tools seed\n",
    "    os.environ[\"PYTHONHASHSEED\"] = str(seed)\n",
    "\n",
    "    if torch.cuda.is_available():\n",
    "        torch.cuda.manual_seed(seed)\n",
    "        torch.cuda.manual_seed_all(seed)\n",
    "        torch.backends.cudnn.deterministic = True\n",
    "        torch.backends.cudnn.benchmark = False\n",
    "\n",
    "set_seed(123)"
   ]
  },
  {
   "cell_type": "code",
   "execution_count": null,
   "id": "4e06d341",
   "metadata": {},
   "outputs": [],
   "source": [
    "!cd /scratch/gent/vo/000/gvo00027/projects/Single_Cell_Neuroblastoma/NBAtlas\n",
    "os.getcwd()"
   ]
  },
  {
   "cell_type": "code",
   "execution_count": null,
   "id": "1c539c8e",
   "metadata": {},
   "outputs": [],
   "source": [
    "output_dir = '02_Create_AnndataObj_NBAtlas'\n",
    "os.makedirs(output_dir, exist_ok=True)"
   ]
  },
  {
   "cell_type": "markdown",
   "id": "5f145ed7",
   "metadata": {},
   "source": [
    "# Original"
   ]
  },
  {
   "cell_type": "code",
   "execution_count": null,
   "id": "0db202c2",
   "metadata": {},
   "outputs": [],
   "source": [
    "adata = sc.read_10x_h5(\"01_Import_Preprocessing_NBAtlas/h5objects/nb_matrix_NBAtlas.h5\")"
   ]
  },
  {
   "cell_type": "code",
   "execution_count": null,
   "id": "70315118",
   "metadata": {},
   "outputs": [],
   "source": [
    "adata"
   ]
  },
  {
   "cell_type": "code",
   "execution_count": null,
   "id": "5e12f6f3",
   "metadata": {},
   "outputs": [],
   "source": [
    "adata.var_names_make_unique()\n",
    "adata"
   ]
  },
  {
   "cell_type": "code",
   "execution_count": null,
   "id": "ceafa50e",
   "metadata": {},
   "outputs": [],
   "source": [
    "# metadata\n",
    "metadata = pd.read_csv('01_Import_Preprocessing_NBAtlas/Tables/nb_matrix_metadata_ext.csv', \n",
    "                       index_col=0)\n",
    "metadata"
   ]
  },
  {
   "cell_type": "code",
   "execution_count": null,
   "id": "17e7ed37",
   "metadata": {},
   "outputs": [],
   "source": [
    "adata.obs['nCount_RNA'] = metadata['nCount_RNA'].values\n",
    "adata.obs['nFeature_RNA'] = metadata['nFeature_RNA'].values\n",
    "adata.obs['percent_mito'] = metadata['percent_mito'].values\n",
    "adata.obs['Study'] = metadata['Study'].values\n",
    "adata.obs['Assay'] = metadata['Assay'].values\n",
    "adata.obs['Platform'] = metadata['Platform'].values\n",
    "adata.obs['Sample'] = metadata['Sample'].values\n",
    "adata.obs['Author_Annot'] = metadata['Author_Annot'].values\n",
    "\n",
    "\n",
    "adata"
   ]
  },
  {
   "cell_type": "code",
   "execution_count": null,
   "id": "f31f84a6",
   "metadata": {},
   "outputs": [],
   "source": [
    "sc.write(adata=adata, \n",
    "        filename = '02_Create_AnndataObj_NBAtlas/nb_adata_NBAtlas.h5ad')"
   ]
  },
  {
   "cell_type": "code",
   "execution_count": null,
   "id": "962fcee9",
   "metadata": {},
   "outputs": [],
   "source": [
    "# metadata ext\n",
    "metadata = pd.read_csv('01_Import_Preprocessing_NBAtlas/Tables/nb_matrix_metadata_ext.csv', \n",
    "                       index_col=0)\n",
    "metadata"
   ]
  },
  {
   "cell_type": "code",
   "execution_count": null,
   "id": "4c691878",
   "metadata": {},
   "outputs": [],
   "source": [
    "adata.obs['Author_annot_unified'] = metadata['Author_annot_unified'].values"
   ]
  }
 ],
 "metadata": {
  "kernelspec": {
   "display_name": "Python 3 (ipykernel)",
   "language": "python",
   "name": "python3"
  },
  "language_info": {
   "codemirror_mode": {
    "name": "ipython",
    "version": 3
   },
   "file_extension": ".py",
   "mimetype": "text/x-python",
   "name": "python",
   "nbconvert_exporter": "python",
   "pygments_lexer": "ipython3",
   "version": "3.9.5"
  }
 },
 "nbformat": 4,
 "nbformat_minor": 5
}
