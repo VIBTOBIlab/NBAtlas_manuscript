{
 "cells": [
  {
   "cell_type": "markdown",
   "id": "428a8b53",
   "metadata": {},
   "source": [
    "Requires high mem (at least 150 GB)"
   ]
  },
  {
   "cell_type": "markdown",
   "id": "b8f2a3c0",
   "metadata": {},
   "source": [
    "# Setup"
   ]
  },
  {
   "cell_type": "code",
   "execution_count": null,
   "id": "06c126b6",
   "metadata": {},
   "outputs": [],
   "source": [
    "import scanpy as sc\n",
    "import infercnvpy as cnv\n",
    "import matplotlib as plt\n",
    "import random\n",
    "import pandas as pd\n",
    "import numpy as np\n",
    "import scipy as sp\n",
    "import os\n",
    "import sys\n",
    "from datetime import datetime\n",
    "\n",
    "# for white background of figures (only for docs rendering)\n",
    "%config InlineBackend.print_figure_kwargs={'facecolor' : \"w\"}\n",
    "%config InlineBackend.figure_format='retina'\n",
    "\n",
    "#hpc figures\n",
    "%matplotlib inline\n",
    "\n",
    "from IPython.core.interactiveshell import InteractiveShell\n",
    "InteractiveShell.ast_node_interactivity = \"all\" # print multiple outputs"
   ]
  },
  {
   "cell_type": "code",
   "execution_count": null,
   "id": "1459b5ed",
   "metadata": {},
   "outputs": [],
   "source": [
    "sc.set_figure_params(figsize=(4, 4), dpi=100, dpi_save=300)"
   ]
  },
  {
   "cell_type": "code",
   "execution_count": null,
   "id": "b43b1018",
   "metadata": {},
   "outputs": [],
   "source": [
    "nCores = 8 #number of supplied cores\n",
    "sc.settings.n_jobs = nCores #nCores"
   ]
  },
  {
   "cell_type": "code",
   "execution_count": null,
   "id": "2d6ff4fa",
   "metadata": {},
   "outputs": [],
   "source": [
    "def set_seed(seed):\n",
    "    random.seed(seed)\n",
    "    np.random.seed(seed)\n",
    "    os.environ[\"PYTHONHASHSEED\"] = str(seed)\n",
    "\n",
    "set_seed(123)"
   ]
  },
  {
   "cell_type": "code",
   "execution_count": null,
   "id": "cae2eee5",
   "metadata": {},
   "outputs": [],
   "source": [
    "!cd /scratch/gent/vo/000/gvo00027/projects/Single_Cell_Neuroblastoma/NBAtlas/03e_post_scVI_inferCNV_NBAtlas\n",
    "os.getcwd()"
   ]
  },
  {
   "cell_type": "code",
   "execution_count": null,
   "id": "5994c611",
   "metadata": {},
   "outputs": [],
   "source": [
    "output_h5objects = \"h5objects/\"\n",
    "output_tables = \"Tables/\"\n",
    "output_figures = \"Figures/\""
   ]
  },
  {
   "cell_type": "code",
   "execution_count": null,
   "id": "73c0a052",
   "metadata": {},
   "outputs": [],
   "source": [
    "os.makedirs(output_tables, exist_ok=True)\n",
    "os.makedirs(output_tables, exist_ok=True)\n",
    "os.makedirs(output_figures, exist_ok=True)"
   ]
  },
  {
   "cell_type": "code",
   "execution_count": null,
   "id": "5f3a706f",
   "metadata": {},
   "outputs": [],
   "source": [
    "sc.settings.figdir = output_figures"
   ]
  },
  {
   "cell_type": "code",
   "execution_count": null,
   "id": "a99f9589",
   "metadata": {},
   "outputs": [],
   "source": [
    "sc.settings.verbosity = 4"
   ]
  },
  {
   "cell_type": "code",
   "execution_count": null,
   "id": "6144a64d",
   "metadata": {},
   "outputs": [],
   "source": [
    "# mem check\n",
    "ipython_vars = ['In', 'Out', 'exit', 'quit', 'get_ipython', 'ipython_vars']\n",
    "# get memory in bytes\n",
    "mem = {\n",
    "    key: value\n",
    "    for key, value in sorted(\n",
    "        [\n",
    "            (x, sys.getsizeof(globals().get(x)))\n",
    "            for x in dir()\n",
    "            if not x.startswith(\"_\") and x not in sys.modules and x not in ipython_vars\n",
    "        ],\n",
    "        key=lambda x: x[1],\n",
    "        reverse=True,\n",
    "    )\n",
    "}\n",
    "mem"
   ]
  },
  {
   "cell_type": "markdown",
   "id": "796fa7ec",
   "metadata": {},
   "source": [
    "# Total atlas"
   ]
  },
  {
   "cell_type": "code",
   "execution_count": null,
   "id": "3e1a83ce",
   "metadata": {},
   "outputs": [],
   "source": [
    "adata = sc.read(\"/scratch/gent/vo/000/gvo00027/projects/Single_Cell_Neuroblastoma/NBAtlas/03e_post_scVI_inferCNV_NBAtlas/h5objects/03e_post_scVI_inferCNV_NBAtlas_inferCNV_onTotal_VZZ.h5ad\")"
   ]
  },
  {
   "cell_type": "code",
   "execution_count": null,
   "id": "4fe58a66",
   "metadata": {},
   "outputs": [],
   "source": [
    "adata"
   ]
  },
  {
   "cell_type": "code",
   "execution_count": null,
   "id": "e10b473a",
   "metadata": {},
   "outputs": [],
   "source": [
    "metadata = pd.read_csv(\"/scratch/gent/vo/000/gvo00027/projects/Single_Cell_Neuroblastoma/NBAtlas/03c_post_scVI_R_plots/Tables/03c_post_scVI_R_plots_covSample_MetaDataForInferCNV.csv\", \n",
    "                       index_col=0)\n",
    "metadata"
   ]
  },
  {
   "cell_type": "code",
   "execution_count": null,
   "id": "7efde8de",
   "metadata": {},
   "outputs": [],
   "source": [
    "adata.obs['annot_NBN_iCNV'] = metadata['annot_NBN_iCNV'].values"
   ]
  },
  {
   "cell_type": "code",
   "execution_count": null,
   "id": "a910b90b",
   "metadata": {},
   "outputs": [],
   "source": [
    "cnv.pl.chromosome_heatmap(adata, groupby=\"annot_NBN_iCNV\", cmap = 'seismic', save = \"03e_post_scVI_inferCNV_totalRun_GroupByAnnotiCNV.svg\")"
   ]
  },
  {
   "cell_type": "code",
   "execution_count": null,
   "id": "292248e9",
   "metadata": {},
   "outputs": [],
   "source": [
    "cnv.tl.pca(adata)\n",
    "cnv.pp.neighbors(adata)\n",
    "cnv.tl.leiden(adata)"
   ]
  },
  {
   "cell_type": "code",
   "execution_count": null,
   "id": "9c95e6bb",
   "metadata": {},
   "outputs": [],
   "source": [
    "cnv.tl.umap(adata)\n",
    "cnv.tl.cnv_score(adata)"
   ]
  },
  {
   "cell_type": "code",
   "execution_count": null,
   "id": "88609afd",
   "metadata": {},
   "outputs": [],
   "source": [
    "#save\n",
    "adata.write(output_h5objects + \"03e_post_scVI_inferCNV_NBAtlas_iCNVresults_VZZ_totalRun_NBN_NBAtlas.h5ad\")"
   ]
  },
  {
   "cell_type": "code",
   "execution_count": null,
   "id": "c0818873",
   "metadata": {},
   "outputs": [],
   "source": [
    "#Reload\n",
    "adata = sc.read(output_h5objects + \"03e_post_scVI_inferCNV_NBAtlas_iCNVresults_VZZ_totalRun_NBN_NBAtlas.h5ad\")"
   ]
  },
  {
   "cell_type": "code",
   "execution_count": null,
   "id": "05e13bc7",
   "metadata": {},
   "outputs": [],
   "source": [
    "cnv.pl.umap(adata, \n",
    "            color=\"cnv_score\",\n",
    "            sort_order = True, #default\n",
    "            #color_map = 'magma',\n",
    "            vmax = 'p99',\n",
    "            save = \"03e_post_scVI_inferCNV_totalRun_UMAP_CNVScore_NBAtlas.png\"\n",
    "           )"
   ]
  },
  {
   "cell_type": "code",
   "execution_count": null,
   "id": "c8e08438",
   "metadata": {},
   "outputs": [],
   "source": [
    "cnv.pl.umap(adata, \n",
    "            color=\"annot_NBN_iCNV\",\n",
    "            save = \"03e_post_scVI_inferCNV_totalRun_UMAP_annotiCNV_NBAtlas.png\"\n",
    "           )"
   ]
  },
  {
   "cell_type": "code",
   "execution_count": null,
   "id": "8bbe5b1b",
   "metadata": {},
   "outputs": [],
   "source": [
    "# export metadata\n",
    "to_export = adata.obs[[\"cnv_leiden\", \"cnv_score\"]]\n",
    "#to_export = to_export.concatenate(adata.obsm['cnv_umap'])\n",
    "umap_df = pd.DataFrame(adata.obsm['X_cnv_umap'], columns=['CNV_UMAP1', 'CNV_UMAP2'], index=adata.obs_names)\n",
    "to_export = pd.concat([to_export, umap_df], axis=1)\n",
    "to_export"
   ]
  },
  {
   "cell_type": "code",
   "execution_count": null,
   "id": "5dbefcc3",
   "metadata": {},
   "outputs": [],
   "source": [
    "to_export.to_csv(output_tables + \"03e_post_scVI_inferCNV_inferCNVpy_totalRun_NBN_NBAtlas.csv\")"
   ]
  },
  {
   "cell_type": "markdown",
   "id": "7057c9ca",
   "metadata": {},
   "source": [
    "# Chr score"
   ]
  },
  {
   "cell_type": "code",
   "execution_count": null,
   "id": "991e6a5c",
   "metadata": {},
   "outputs": [],
   "source": [
    "#reload\n",
    "adata = sc.read(output_h5objects + \"03e_post_scVI_inferCNV_NBAtlas_iCNVresults_VZZ_PerStudyMerged_NBN_NBAtlas.h5ad\")"
   ]
  },
  {
   "cell_type": "code",
   "execution_count": null,
   "id": "9a81b505",
   "metadata": {},
   "outputs": [],
   "source": [
    "adata.obsm[\"X_cnv\"].shape #[0]: cells, [1]: windows"
   ]
  },
  {
   "cell_type": "code",
   "execution_count": null,
   "id": "6f8ea8d6",
   "metadata": {},
   "outputs": [],
   "source": [
    "adata.uns['cnv']['chr_pos']"
   ]
  },
  {
   "cell_type": "code",
   "execution_count": null,
   "id": "0a9427a5",
   "metadata": {},
   "outputs": [],
   "source": [
    "chr_pos = list(dict.values(adata.uns['cnv']['chr_pos']))\n",
    "chr_order = list(dict.keys(adata.uns['cnv']['chr_pos']))\n",
    "chr_order.index('chr7')"
   ]
  },
  {
   "cell_type": "code",
   "execution_count": null,
   "id": "f31d6669",
   "metadata": {},
   "outputs": [],
   "source": [
    "chr_intervals = list(zip(chr_pos , chr_pos[1:] + [adata.obsm[\"X_cnv\"].shape[1]])) #make list of chromosome intervals for infercnv windows\n",
    "chr_intervals"
   ]
  },
  {
   "cell_type": "code",
   "execution_count": null,
   "id": "a837020f",
   "metadata": {},
   "outputs": [],
   "source": [
    "# select chr7\n",
    "chr7_pos = chr_intervals[19]\n",
    "chr7_pos[0]\n",
    "chr7_pos[1]"
   ]
  },
  {
   "cell_type": "code",
   "execution_count": null,
   "id": "5eecdea1",
   "metadata": {},
   "outputs": [],
   "source": [
    "use_rep = 'cnv'\n",
    "tmp_adata = sc.AnnData(X=adata.obsm[f\"X_{use_rep}\"], obs=adata.obs, uns=adata.uns) # extract cnv only obsm -> becomes adata.X\n",
    "tmp_adata"
   ]
  },
  {
   "cell_type": "code",
   "execution_count": null,
   "id": "dc809ae9",
   "metadata": {},
   "outputs": [],
   "source": [
    "tmp_adata.shape"
   ]
  },
  {
   "cell_type": "code",
   "execution_count": null,
   "id": "19b93d69",
   "metadata": {},
   "outputs": [],
   "source": [
    "tmp_adata = tmp_adata[:, chr7_pos[0]:chr7_pos[1]]"
   ]
  },
  {
   "cell_type": "code",
   "execution_count": null,
   "id": "2b217eac",
   "metadata": {},
   "outputs": [],
   "source": [
    "#score per cell\n",
    "chr7_score_per_cell = np.mean(np.abs(tmp_adata.X), axis = 1) #np.mean # take X because tmp_adata\n",
    "chr7_score_per_cell"
   ]
  },
  {
   "cell_type": "code",
   "execution_count": null,
   "id": "b5dcfded",
   "metadata": {},
   "outputs": [],
   "source": [
    "adata.obs[\"chr7_score_per_cell\"] = chr7_score_per_cell"
   ]
  },
  {
   "cell_type": "code",
   "execution_count": null,
   "id": "156cfd16",
   "metadata": {},
   "outputs": [],
   "source": [
    "cnv.pl.umap(adata, \n",
    "            color=\"chr7_score_per_cell\",\n",
    "            sort_order = True, #default\n",
    "            vmax = 'p99',\n",
    "            save = \"03e_post_scVI_inferCNV_PerStudyMerged_UMAP_Chr7ScorePerCell_NBAtlas.png\"\n",
    "           )"
   ]
  },
  {
   "cell_type": "code",
   "execution_count": null,
   "id": "2de903d5",
   "metadata": {},
   "outputs": [],
   "source": [
    "cnv.pl.umap(adata, \n",
    "            color=\"annot_NBN_iCNV\")"
   ]
  },
  {
   "cell_type": "markdown",
   "id": "8ac6876f",
   "metadata": {},
   "source": [
    "## Chromosome arm score"
   ]
  },
  {
   "cell_type": "code",
   "execution_count": null,
   "id": "d890a6b0",
   "metadata": {},
   "outputs": [],
   "source": [
    "# import from R\n",
    "centromeres = pd.read_csv('/data/gent/vo/000/gvo00027/SingleCell10X/cellrangerref/Gencode_v43_VZZ/Gencode_v43_cytoband_centromere_positions.csv', sep=\",\", header=None) #using #http://hgdownload.cse.ucsc.edu/goldenPath/hg38/database/cytoBand.txt.gz\n",
    "centromeres # c1: chromosome, c2: start, c3: end, c4: cytoband, c5: chr with arm"
   ]
  },
  {
   "cell_type": "code",
   "execution_count": null,
   "id": "e6d72f70",
   "metadata": {},
   "outputs": [],
   "source": [
    "adata.var['chromosome'].value_counts()"
   ]
  },
  {
   "cell_type": "code",
   "execution_count": null,
   "id": "35b6485a",
   "metadata": {},
   "outputs": [],
   "source": [
    "# add chromosome arm to \"chr_arm\"\n",
    "for index, row in adata.var.iterrows(): #iterate across rows\n",
    "    chromosome = row['chromosome']\n",
    "    start_position = row['start'] #start gene pos\n",
    "    \n",
    "    if chromosome in centromeres[0].values:\n",
    "        centromere_position = centromeres[centromeres[0] == chromosome][1].values[0] #0: chr, 1: centromere pos\n",
    "\n",
    "        if start_position < centromere_position:\n",
    "            adata.var.loc[index, 'chr_arm'] = str(chromosome) + 'p'\n",
    "        else:\n",
    "            adata.var.loc[index, 'chr_arm'] = str(chromosome) + 'q'\n",
    "    else:\n",
    "        adata.var.loc[index, 'chr_arm'] = np.nan\n",
    "\n",
    "adata.var[\"chr_arm\"]"
   ]
  },
  {
   "cell_type": "code",
   "execution_count": null,
   "id": "dfc18a74",
   "metadata": {},
   "outputs": [],
   "source": [
    "adata.var.loc[adata.var['gene_ids'].isin([\"MYCN\",\"SOX11\",\"RRM2\",\"TP53\",\"IGF2BP1\"]), 'chr_arm'] #check some known genes"
   ]
  },
  {
   "cell_type": "code",
   "execution_count": null,
   "id": "5b28bbd2",
   "metadata": {},
   "outputs": [],
   "source": [
    "adata.var[\"chr_arm\"].value_counts()"
   ]
  },
  {
   "cell_type": "code",
   "execution_count": null,
   "id": "a2008521",
   "metadata": {},
   "outputs": [],
   "source": [
    "chr_arm_pos = adata.var[\"chr_arm\"].value_counts()"
   ]
  },
  {
   "cell_type": "code",
   "execution_count": null,
   "id": "66812ad6",
   "metadata": {},
   "outputs": [],
   "source": [
    "from natsort import index_natsorted\n",
    "chr_arm_pos = chr_arm_pos.iloc[index_natsorted(chr_arm_pos.index)]\n",
    "chr_arm_pos = chr_arm_pos.cumsum() # take cumsum to get positions\n",
    "chr_arm_pos #these are endpoints\n",
    "# chr arms not to use (<100): chr18p, chr21p, chr22p"
   ]
  },
  {
   "cell_type": "code",
   "execution_count": null,
   "id": "a0cb2b14",
   "metadata": {},
   "outputs": [],
   "source": [
    "adata.var[\"chromosome_old\"] = adata.var[\"chromosome\"]\n",
    "\n",
    "chr_arm_pos_endpoint = chr_arm_pos\n",
    "\n",
    "chr_arm_pos_startpoint = chr_arm_pos_endpoint.shift(1)\n",
    "chr_arm_pos_startpoint[0] = 0\n",
    "chr_arm_pos_startpoint = chr_arm_pos_startpoint.astype(int)\n",
    "chr_arm_pos_startpoint"
   ]
  },
  {
   "cell_type": "markdown",
   "id": "9a3bcfcd",
   "metadata": {},
   "source": [
    "### 17q"
   ]
  },
  {
   "cell_type": "code",
   "execution_count": null,
   "id": "e2620db0",
   "metadata": {},
   "outputs": [],
   "source": [
    "selected_chr_arm = 'chr17q'\n",
    "\n",
    "chr_arm_pos_startpoint[selected_chr_arm] # startpoint at endpoint of 17p\n",
    "chr_arm_pos_endpoint[selected_chr_arm] #endpoint"
   ]
  },
  {
   "cell_type": "code",
   "execution_count": null,
   "id": "9c4fce52",
   "metadata": {},
   "outputs": [],
   "source": [
    "use_rep = 'cnv'\n",
    "tmp_adata = sc.AnnData(X=adata.obsm[f\"X_{use_rep}\"], obs=adata.obs, uns=adata.uns) # extract cnv only obsm -> becomes adata.X\n",
    "tmp_adata"
   ]
  },
  {
   "cell_type": "code",
   "execution_count": null,
   "id": "dd32bc81",
   "metadata": {},
   "outputs": [],
   "source": [
    "tmp_adata.shape"
   ]
  },
  {
   "cell_type": "code",
   "execution_count": null,
   "id": "cc30f1cd",
   "metadata": {},
   "outputs": [],
   "source": [
    "tmp_adata = tmp_adata[:, chr_arm_pos_startpoint[selected_chr_arm]:chr_arm_pos_endpoint[selected_chr_arm]]"
   ]
  },
  {
   "cell_type": "code",
   "execution_count": null,
   "id": "b0aef4ee",
   "metadata": {},
   "outputs": [],
   "source": [
    "tmp_adata[:, chr_arm_pos_startpoint[selected_chr_arm]:chr_arm_pos_endpoint[selected_chr_arm]]"
   ]
  },
  {
   "cell_type": "code",
   "execution_count": null,
   "id": "7aee3446",
   "metadata": {},
   "outputs": [],
   "source": [
    "#score per cell\n",
    "chr17q_score_per_cell = np.mean(np.abs(tmp_adata.X), axis = 1)\n",
    "chr17q_score_per_cell"
   ]
  },
  {
   "cell_type": "code",
   "execution_count": null,
   "id": "92e6bc0d",
   "metadata": {},
   "outputs": [],
   "source": [
    "adata.obs[\"chr17q_score_per_cell\"] = chr17q_score_per_cell"
   ]
  },
  {
   "cell_type": "code",
   "execution_count": null,
   "id": "91bd4975",
   "metadata": {},
   "outputs": [],
   "source": [
    "cnv.pl.umap(adata, \n",
    "            color=\"chr17q_score_per_cell\",\n",
    "            sort_order = True, #default\n",
    "            vmax = 'p99',\n",
    "            save = \"03e_post_scVI_inferCNV_PerStudyMerged_NE_UMAP_Chr17qScorePerCell_NBAtlas.png\"\n",
    "           )"
   ]
  },
  {
   "cell_type": "markdown",
   "id": "b2a0d77f",
   "metadata": {},
   "source": [
    "### 1p"
   ]
  },
  {
   "cell_type": "code",
   "execution_count": null,
   "id": "35396550",
   "metadata": {},
   "outputs": [],
   "source": [
    "#1p\n",
    "selected_chr_arm = 'chr1p'"
   ]
  },
  {
   "cell_type": "code",
   "execution_count": null,
   "id": "db5d9f4c",
   "metadata": {},
   "outputs": [],
   "source": [
    "#don't modify\n",
    "use_rep = 'cnv'\n",
    "tmp_adata = sc.AnnData(X=adata.obsm[f\"X_{use_rep}\"], obs=adata.obs, uns=adata.uns) # extract cnv only obsm -> becomes adata.X\n",
    "tmp_adata = tmp_adata[:, chr_arm_pos_startpoint[selected_chr_arm]:chr_arm_pos_endpoint[selected_chr_arm]]\n",
    "\n",
    "chr_arm_score_per_cell = np.mean(np.abs(tmp_adata.X), axis = 1) #np.mean # take X because tmp_adata"
   ]
  },
  {
   "cell_type": "code",
   "execution_count": null,
   "id": "1415dddf",
   "metadata": {},
   "outputs": [],
   "source": [
    "#1p\n",
    "adata.obs[\"chr1p_score_per_cell\"] = chr_arm_score_per_cell"
   ]
  },
  {
   "cell_type": "code",
   "execution_count": null,
   "id": "6d025b29",
   "metadata": {},
   "outputs": [],
   "source": [
    "cnv.pl.umap(adata, \n",
    "            color=\"chr1p_score_per_cell\",\n",
    "            sort_order = True, #default,\n",
    "            vmax = 'p99',\n",
    "            save = \"03e_post_scVI_inferCNV_PerStudyMerged_UMAP_Chr1pScorePerCell_NBAtlas.png\"\n",
    "           )"
   ]
  },
  {
   "cell_type": "markdown",
   "id": "dc840f95",
   "metadata": {},
   "source": [
    "### 2p gain"
   ]
  },
  {
   "cell_type": "code",
   "execution_count": null,
   "id": "1ad0335a",
   "metadata": {},
   "outputs": [],
   "source": [
    "selected_chr_arm = 'chr2p'"
   ]
  },
  {
   "cell_type": "code",
   "execution_count": null,
   "id": "995489d3",
   "metadata": {},
   "outputs": [],
   "source": [
    "#don't modify\n",
    "use_rep = 'cnv'\n",
    "tmp_adata = sc.AnnData(X=adata.obsm[f\"X_{use_rep}\"], obs=adata.obs, uns=adata.uns) # extract cnv only obsm -> becomes adata.X\n",
    "tmp_adata = tmp_adata[:, chr_arm_pos_startpoint[selected_chr_arm]:chr_arm_pos_endpoint[selected_chr_arm]]\n",
    "\n",
    "chr_arm_score_per_cell = np.mean(np.abs(tmp_adata.X), axis = 1) #np.mean # take X because tmp_adata"
   ]
  },
  {
   "cell_type": "code",
   "execution_count": null,
   "id": "297cb25f",
   "metadata": {},
   "outputs": [],
   "source": [
    "#2p\n",
    "adata.obs[\"chr2p_score_per_cell\"] = chr_arm_score_per_cell\n",
    "adata.obs[\"chr2p_score_per_cell_mean\"] = chr_arm_score_per_cell_mean"
   ]
  },
  {
   "cell_type": "code",
   "execution_count": null,
   "id": "000a1971",
   "metadata": {},
   "outputs": [],
   "source": [
    "cnv.pl.umap(adata, \n",
    "            color=\"chr2p_score_per_cell\",\n",
    "            sort_order = True, #default,\n",
    "            vmax = 'p99',\n",
    "            vmin = 0,\n",
    "            save = \"03e_post_scVI_inferCNV_PerStudyMerged_UMAP_Chr2pScorePerCell_NBAtlas.png\"\n",
    "           )"
   ]
  },
  {
   "cell_type": "markdown",
   "id": "59dd19c8",
   "metadata": {},
   "source": [
    "### 3p loss"
   ]
  },
  {
   "cell_type": "code",
   "execution_count": null,
   "id": "67afba8e",
   "metadata": {},
   "outputs": [],
   "source": [
    "selected_chr_arm = 'chr3p'"
   ]
  },
  {
   "cell_type": "code",
   "execution_count": null,
   "id": "c33a82d6",
   "metadata": {},
   "outputs": [],
   "source": [
    "#don't modify\n",
    "use_rep = 'cnv'\n",
    "tmp_adata = sc.AnnData(X=adata.obsm[f\"X_{use_rep}\"], obs=adata.obs, uns=adata.uns) # extract cnv only obsm -> becomes adata.X\n",
    "tmp_adata = tmp_adata[:, chr_arm_pos_startpoint[selected_chr_arm]:chr_arm_pos_endpoint[selected_chr_arm]]\n",
    "\n",
    "chr_arm_score_per_cell = np.mean(np.abs(tmp_adata.X), axis = 1) #np.mean # take X because tmp_adata"
   ]
  },
  {
   "cell_type": "code",
   "execution_count": null,
   "id": "4dd29d06",
   "metadata": {},
   "outputs": [],
   "source": [
    "#3p\n",
    "adata.obs[\"chr3p_score_per_cell\"] = chr_arm_score_per_cell\n",
    "adata.obs[\"chr3p_score_per_cell_mean\"] = chr_arm_score_per_cell_mean"
   ]
  },
  {
   "cell_type": "code",
   "execution_count": null,
   "id": "e5303baa",
   "metadata": {},
   "outputs": [],
   "source": [
    "cnv.pl.umap(adata, \n",
    "            color=\"chr3p_score_per_cell\",\n",
    "            sort_order = True, #default,\n",
    "            vmax = 'p99',\n",
    "            save = \"03e_post_scVI_inferCNV_PerStudyMerged_UMAP_Chr3pScorePerCell_NBAtlas.png\"\n",
    "           )"
   ]
  },
  {
   "cell_type": "markdown",
   "id": "cb1fb82e",
   "metadata": {},
   "source": [
    "### 4p loss"
   ]
  },
  {
   "cell_type": "code",
   "execution_count": null,
   "id": "f402d5ca",
   "metadata": {},
   "outputs": [],
   "source": [
    "selected_chr_arm = 'chr4p'"
   ]
  },
  {
   "cell_type": "code",
   "execution_count": null,
   "id": "f65ee2de",
   "metadata": {},
   "outputs": [],
   "source": [
    "#don't modify\n",
    "use_rep = 'cnv'\n",
    "tmp_adata = sc.AnnData(X=adata.obsm[f\"X_{use_rep}\"], obs=adata.obs, uns=adata.uns) # extract cnv only obsm -> becomes adata.X\n",
    "tmp_adata = tmp_adata[:, chr_arm_pos_startpoint[selected_chr_arm]:chr_arm_pos_endpoint[selected_chr_arm]]\n",
    "\n",
    "chr_arm_score_per_cell = np.mean(np.abs(tmp_adata.X), axis = 1) #np.mean # take X because tmp_adata"
   ]
  },
  {
   "cell_type": "code",
   "execution_count": null,
   "id": "136050c0",
   "metadata": {},
   "outputs": [],
   "source": [
    "#4p\n",
    "adata.obs[\"chr4p_score_per_cell\"] = chr_arm_score_per_cell\n",
    "adata.obs[\"chr4p_score_per_cell_mean\"] = chr_arm_score_per_cell_mean"
   ]
  },
  {
   "cell_type": "code",
   "execution_count": null,
   "id": "63221e44",
   "metadata": {},
   "outputs": [],
   "source": [
    "cnv.pl.umap(adata, \n",
    "            color=\"chr4p_score_per_cell\",\n",
    "            sort_order = True, #default,\n",
    "            vmax = 'p99',\n",
    "            #vmin = 0,\n",
    "            save = \"03e_post_scVI_inferCNV_PerStudyMerged_UMAP_Chr4pScorePerCell_NBAtlas.png\"\n",
    "           )"
   ]
  },
  {
   "cell_type": "markdown",
   "id": "8846b81c",
   "metadata": {},
   "source": [
    "### 11q loss"
   ]
  },
  {
   "cell_type": "code",
   "execution_count": null,
   "id": "26d8e4ec",
   "metadata": {},
   "outputs": [],
   "source": [
    "selected_chr_arm = 'chr11q'"
   ]
  },
  {
   "cell_type": "code",
   "execution_count": null,
   "id": "8e6317ba",
   "metadata": {},
   "outputs": [],
   "source": [
    "#don't modify\n",
    "use_rep = 'cnv'\n",
    "tmp_adata = sc.AnnData(X=adata.obsm[f\"X_{use_rep}\"], obs=adata.obs, uns=adata.uns) # extract cnv only obsm -> becomes adata.X\n",
    "tmp_adata = tmp_adata[:, chr_arm_pos_startpoint[selected_chr_arm]:chr_arm_pos_endpoint[selected_chr_arm]]\n",
    "\n",
    "chr_arm_score_per_cell = np.mean(np.abs(tmp_adata.X), axis = 1)"
   ]
  },
  {
   "cell_type": "code",
   "execution_count": null,
   "id": "b9edb576",
   "metadata": {},
   "outputs": [],
   "source": [
    "#11q\n",
    "adata.obs[\"chr11q_score_per_cell\"] = chr_arm_score_per_cell\n",
    "adata.obs[\"chr11q_score_per_cell_mean\"] = chr_arm_score_per_cell_mean"
   ]
  },
  {
   "cell_type": "code",
   "execution_count": null,
   "id": "b9ea491d",
   "metadata": {},
   "outputs": [],
   "source": [
    "cnv.pl.umap(adata, \n",
    "            color=\"chr11q_score_per_cell\",\n",
    "            sort_order = True, #default,\n",
    "            vmax = 'p99',\n",
    "            save = \"03e_post_scVI_inferCNV_PerStudyMerged_UMAP_Chr11qScorePerCell_NBAtlas.png\"\n",
    "           )"
   ]
  },
  {
   "cell_type": "markdown",
   "id": "5e54d4e7",
   "metadata": {},
   "source": [
    "### 14q loss"
   ]
  },
  {
   "cell_type": "code",
   "execution_count": null,
   "id": "730ff87b",
   "metadata": {},
   "outputs": [],
   "source": [
    "selected_chr_arm = 'chr14q'"
   ]
  },
  {
   "cell_type": "code",
   "execution_count": null,
   "id": "0c99a4dc",
   "metadata": {},
   "outputs": [],
   "source": [
    "#don't modify\n",
    "use_rep = 'cnv'\n",
    "tmp_adata = sc.AnnData(X=adata.obsm[f\"X_{use_rep}\"], obs=adata.obs, uns=adata.uns) # extract cnv only obsm -> becomes adata.X\n",
    "tmp_adata = tmp_adata[:, chr_arm_pos_startpoint[selected_chr_arm]:chr_arm_pos_endpoint[selected_chr_arm]]\n",
    "\n",
    "chr_arm_score_per_cell = np.mean(np.abs(tmp_adata.X), axis = 1) #np.mean # take X because tmp_adata"
   ]
  },
  {
   "cell_type": "code",
   "execution_count": null,
   "id": "4cdf7ec5",
   "metadata": {},
   "outputs": [],
   "source": [
    "#14q\n",
    "adata.obs[\"chr14q_score_per_cell\"] = chr_arm_score_per_cell\n",
    "adata.obs[\"chr14q_score_per_cell_mean\"] = chr_arm_score_per_cell_mean"
   ]
  },
  {
   "cell_type": "code",
   "execution_count": null,
   "id": "2f3ce076",
   "metadata": {},
   "outputs": [],
   "source": [
    "cnv.pl.umap(adata, \n",
    "            color=\"chr14q_score_per_cell\",\n",
    "            sort_order = True, #default,\n",
    "            vmax = 'p99',\n",
    "            save = \"03e_post_scVI_inferCNV_PerStudyMerged_UMAP_Chr14qScorePerCell_NBAtlas.png\"\n",
    "           )"
   ]
  },
  {
   "cell_type": "markdown",
   "id": "c8bc4392",
   "metadata": {},
   "source": [
    "### Save"
   ]
  },
  {
   "cell_type": "code",
   "execution_count": null,
   "id": "4dde7852",
   "metadata": {},
   "outputs": [],
   "source": [
    "#save\n",
    "adata.write(output_h5objects + \"03e_post_scVI_inferCNV_NBAtlas_iCNVresults_VZZ_PerStudyMerged_NBN_CNVscores_NBAtlas.h5ad\")"
   ]
  },
  {
   "cell_type": "markdown",
   "id": "2f5e9ebd",
   "metadata": {},
   "source": [
    "### Export"
   ]
  },
  {
   "cell_type": "code",
   "execution_count": null,
   "id": "38b6391a",
   "metadata": {},
   "outputs": [],
   "source": [
    "# export metadata\n",
    "to_export = adata.obs[[\"cnv_leiden\",\"cnv_score\",\"cnv_score_per_cell\",\"chr7_score_per_cell\",\"chr17q_score_per_cell\",\"chr1p_score_per_cell\",\"chr2p_score_per_cell\",\"chr3p_score_per_cell\",\"chr4p_score_per_cell\",\"chr11q_score_per_cell\",\"chr14q_score_per_cell\"]]\n",
    "#to_export = to_export.concatenate(adata.obsm['cnv_umap'])\n",
    "umap_df = pd.DataFrame(adata.obsm['X_cnv_umap'], columns=['CNV_UMAP1', 'CNV_UMAP2'], index=adata.obs_names)\n",
    "to_export = pd.concat([to_export, umap_df], axis=1)\n",
    "\n",
    "to_export"
   ]
  },
  {
   "cell_type": "code",
   "execution_count": null,
   "id": "006bcbed",
   "metadata": {},
   "outputs": [],
   "source": [
    "to_export.to_csv(output_tables + \"03e_post_scVI_inferCNV_inferCNVpy_PerStudyMergedResults_ChrScores_NBN_NBAtlas.csv\")"
   ]
  }
 ],
 "metadata": {
  "kernelspec": {
   "display_name": "Python 3 (ipykernel)",
   "language": "python",
   "name": "python3"
  },
  "language_info": {
   "codemirror_mode": {
    "name": "ipython",
    "version": 3
   },
   "file_extension": ".py",
   "mimetype": "text/x-python",
   "name": "python",
   "nbconvert_exporter": "python",
   "pygments_lexer": "ipython3",
   "version": "3.9.5"
  }
 },
 "nbformat": 4,
 "nbformat_minor": 5
}
