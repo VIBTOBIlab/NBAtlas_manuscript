{
 "cells": [
  {
   "cell_type": "code",
   "execution_count": null,
   "id": "fb1b356b",
   "metadata": {},
   "outputs": [],
   "source": [
    "import scvi\n",
    "\n",
    "import scanpy as sc\n",
    "import scipy as sp\n",
    "import pandas as pd\n",
    "import matplotlib.pyplot as plt\n",
    "import random\n",
    "import numpy as np\n",
    "import os\n",
    "import torch\n",
    "import sys\n",
    "from datetime import datetime\n",
    "\n",
    "from matplotlib import pyplot as plt\n",
    "from datetime import datetime\n",
    "\n",
    "scvi.settings.progress_bar_style = \"tqdm\"\n",
    "\n",
    "# for white background of figures (only for docs rendering)\n",
    "%config InlineBackend.print_figure_kwargs={'facecolor' : \"w\"}\n",
    "%config InlineBackend.figure_format='retina'\n",
    "\n",
    "#hpc figures\n",
    "%matplotlib inline\n",
    "\n",
    "from IPython.core.interactiveshell import InteractiveShell\n",
    "InteractiveShell.ast_node_interactivity = \"all\" # print multiple outputs per code cell (not just last)"
   ]
  },
  {
   "cell_type": "code",
   "execution_count": null,
   "id": "4ba2d82a",
   "metadata": {},
   "outputs": [],
   "source": [
    "sc.set_figure_params(figsize=(4, 4), dpi=100, dpi_save=300)"
   ]
  },
  {
   "cell_type": "code",
   "execution_count": null,
   "id": "79c5e724",
   "metadata": {},
   "outputs": [],
   "source": [
    "nCores = 12\n",
    "sc.settings.n_jobs = nCores #nCores\n",
    "scvi.settings.num_threads = nCores # nThreads for PyTorch"
   ]
  },
  {
   "cell_type": "code",
   "execution_count": null,
   "id": "89d8f241",
   "metadata": {},
   "outputs": [],
   "source": [
    "def set_seed(seed):\n",
    "    random.seed(seed)\n",
    "    np.random.seed(seed)\n",
    "    torch.manual_seed(seed)\n",
    "    scvi.settings.seed = seed # scvi-tools seed\n",
    "    os.environ[\"PYTHONHASHSEED\"] = str(seed)\n",
    "\n",
    "    if torch.cuda.is_available():\n",
    "        torch.cuda.manual_seed(seed)\n",
    "        torch.cuda.manual_seed_all(seed)\n",
    "        torch.backends.cudnn.deterministic = True\n",
    "        torch.backends.cudnn.benchmark = False\n",
    "\n",
    "set_seed(123)"
   ]
  },
  {
   "cell_type": "code",
   "execution_count": null,
   "id": "431371fd",
   "metadata": {},
   "outputs": [],
   "source": [
    "!cd /scratch/gent/vo/000/gvo00027/projects/Single_Cell_Neuroblastoma/NBAtlas\n",
    "os.getcwd()"
   ]
  },
  {
   "cell_type": "code",
   "execution_count": null,
   "id": "7920179c",
   "metadata": {},
   "outputs": [],
   "source": [
    "output_dir = \"07a_scVI_ImmuneZoom_NBAtlas/\"\n",
    "os.makedirs(output_dir, exist_ok=True)\n",
    "\n",
    "output_tables = output_dir + \"/Tables/\"\n",
    "os.makedirs(output_tables, exist_ok=True)\n",
    "\n",
    "output_figures = output_dir + \"/Figures/\"\n",
    "os.makedirs(output_figures, exist_ok=True)"
   ]
  },
  {
   "cell_type": "code",
   "execution_count": null,
   "id": "e6a38c0d",
   "metadata": {},
   "outputs": [],
   "source": [
    "sc.settings.figdir = output_figures"
   ]
  },
  {
   "cell_type": "code",
   "execution_count": null,
   "id": "5a78f2ea",
   "metadata": {},
   "outputs": [],
   "source": [
    "sc.settings.verbosity = 4"
   ]
  },
  {
   "cell_type": "code",
   "execution_count": null,
   "id": "5720df98",
   "metadata": {},
   "outputs": [],
   "source": [
    "# mem check\n",
    "ipython_vars = ['In', 'Out', 'exit', 'quit', 'get_ipython', 'ipython_vars']\n",
    "# get memory in bytes\n",
    "mem = {\n",
    "    key: value\n",
    "    for key, value in sorted(\n",
    "        [\n",
    "            (x, sys.getsizeof(globals().get(x)))\n",
    "            for x in dir()\n",
    "            if not x.startswith(\"_\") and x not in sys.modules and x not in ipython_vars\n",
    "        ],\n",
    "        key=lambda x: x[1],\n",
    "        reverse=True,\n",
    "    )\n",
    "}\n",
    "mem"
   ]
  },
  {
   "cell_type": "markdown",
   "id": "bcc2a555",
   "metadata": {},
   "source": [
    "# Import data"
   ]
  },
  {
   "cell_type": "code",
   "execution_count": null,
   "id": "5c5d2453",
   "metadata": {},
   "outputs": [],
   "source": [
    "adata = sc.read('02_Create_AnndataObj_NBAtlas/nb_adata_NBAtlas.h5ad')\n",
    "adata"
   ]
  },
  {
   "cell_type": "code",
   "execution_count": null,
   "id": "eafec3be",
   "metadata": {},
   "outputs": [],
   "source": [
    "# metadata from \n",
    "metadata_annot = pd.read_csv('03c_post_scVI_R_plots/Tables/03c_post_scVI_R_plots_covSample_MetaData_AnnotationForscArches.csv', \n",
    "                       index_col=0)\n",
    "metadata_annot\n",
    "\n",
    "adata.obs['annot_scarches_NBN'] = metadata_annot['annot_NBN_scarches'].values\n",
    "\n",
    "adata.obs['annot_scarches_NBN'].value_counts()"
   ]
  },
  {
   "cell_type": "code",
   "execution_count": null,
   "id": "4fe67982",
   "metadata": {},
   "outputs": [],
   "source": [
    "adata = adata[adata.obs['annot_scarches_NBN'].isin([\"T cell\", \"NK cell\", \"Myeloid\", \"B cell\", \"Plasma\", \"pDC\"])]\n",
    "adata "
   ]
  },
  {
   "cell_type": "code",
   "execution_count": null,
   "id": "2c68a952",
   "metadata": {},
   "outputs": [],
   "source": [
    "adata.obs['annot_scarches_NBN'].value_counts()"
   ]
  },
  {
   "cell_type": "code",
   "execution_count": null,
   "id": "870bcc50",
   "metadata": {},
   "outputs": [],
   "source": [
    "# exclude bad cells\n",
    "bad_cells = pd.read_csv('07c_post_scVI_ImmuneZoom_R_plots/Tables_old/07c_post_scVI_ImmuneZoom_Remove_c28_c29_remove_old.csv', \n",
    "                       index_col=0)\n",
    "bad_cells\n",
    "bad_cell_names = set(bad_cells['x'])\n",
    "adata = adata[~adata.obs.index.isin(bad_cell_names)]\n",
    "adata"
   ]
  },
  {
   "cell_type": "code",
   "execution_count": null,
   "id": "3a4a7a1c",
   "metadata": {},
   "outputs": [],
   "source": [
    "metadata_annot_immune = metadata_annot[metadata_annot['annot_NBN_scarches'].isin([\"T cell\", \"NK cell\", \"Myeloid\", \"B cell\", \"Plasma\", \"pDC\"])]\n",
    "metadata_annot_immune = metadata_annot_immune[~metadata_annot_immune.index.isin(bad_cell_names)]\n",
    "metadata_annot_immune"
   ]
  },
  {
   "cell_type": "code",
   "execution_count": null,
   "id": "4c36a515",
   "metadata": {},
   "outputs": [],
   "source": [
    "adata.obs['Author_annot_unified'] = metadata_annot_immune['Author_annot_unified'].values"
   ]
  },
  {
   "cell_type": "code",
   "execution_count": null,
   "id": "2f420dc6",
   "metadata": {},
   "outputs": [],
   "source": [
    "adata.obs['Author_annot_unified'].value_counts()"
   ]
  },
  {
   "cell_type": "markdown",
   "id": "07306547",
   "metadata": {},
   "source": [
    "Prior to integration"
   ]
  },
  {
   "cell_type": "code",
   "execution_count": null,
   "id": "9e711a74",
   "metadata": {},
   "outputs": [],
   "source": [
    "adata.layers[\"counts\"] = adata.X.copy() # preserve counts\n",
    "sc.pp.normalize_total(adata, target_sum=1e4)\n",
    "sc.pp.log1p(adata)\n",
    "adata.raw = adata # freeze the state (with all genes) in `.raw`"
   ]
  },
  {
   "cell_type": "code",
   "execution_count": null,
   "id": "21febdb0",
   "metadata": {},
   "outputs": [],
   "source": [
    "adata"
   ]
  },
  {
   "cell_type": "code",
   "execution_count": null,
   "id": "4822dd29",
   "metadata": {},
   "outputs": [],
   "source": [
    "# save adata before taking HVGs\n",
    "sc.write(adata=adata, \n",
    "        filename = output_dir + 'ImmuneZoom_adata_a_NoInt_norm_full_all_genes_NBAtlas.h5ad') #this is adata_full see below"
   ]
  },
  {
   "cell_type": "code",
   "execution_count": null,
   "id": "0bed6bbc",
   "metadata": {},
   "outputs": [],
   "source": [
    "sc.pp.highly_variable_genes(\n",
    "    adata,\n",
    "    n_top_genes=5000, \n",
    "    subset=True,\n",
    "    layer=\"counts\",\n",
    "    flavor=\"seurat\",\n",
    "    batch_key=\"Study\" \n",
    ")\n",
    "adata"
   ]
  },
  {
   "cell_type": "code",
   "execution_count": null,
   "id": "3042fc3d",
   "metadata": {},
   "outputs": [],
   "source": [
    "sc.tl.pca(adata)\n",
    "sc.pl.pca_variance_ratio(adata, n_pcs=50)"
   ]
  },
  {
   "cell_type": "code",
   "execution_count": null,
   "id": "87093155",
   "metadata": {},
   "outputs": [],
   "source": [
    "sc.pp.neighbors(adata, n_pcs=20, n_neighbors=20)\n",
    "sc.tl.umap(adata, min_dist=0.6)"
   ]
  },
  {
   "cell_type": "code",
   "execution_count": null,
   "id": "4007ef6f",
   "metadata": {},
   "outputs": [],
   "source": [
    "sc.pl.umap(\n",
    "    adata,\n",
    "    color = [\"Sample\"],\n",
    "    save = \"07_UMAP_ImmuneZoom_a_NoInt_Sample_NBAtlas.png\"\n",
    ")"
   ]
  },
  {
   "cell_type": "code",
   "execution_count": null,
   "id": "9f9d4ab5",
   "metadata": {},
   "outputs": [],
   "source": [
    "sc.pl.umap(adata,\n",
    "           color = [\"Study\"],\n",
    "           save = \"07_UMAP_ImmuneZoom_a_NoInt_Study_NBAtlas.png\"\n",
    "    )"
   ]
  },
  {
   "cell_type": "code",
   "execution_count": null,
   "id": "d748c9be",
   "metadata": {},
   "outputs": [],
   "source": [
    "sc.pl.umap(\n",
    "    adata,\n",
    "    color = [\"Assay\"],\n",
    "    save = \"07_UMAP_ImmuneZoom_a_NoInt_Assay_NBAtlas.png\"\n",
    ")"
   ]
  },
  {
   "cell_type": "code",
   "execution_count": null,
   "id": "92195d9d",
   "metadata": {},
   "outputs": [],
   "source": [
    "sc.pl.umap(\n",
    "    adata,\n",
    "    color = [\"Platform\"],\n",
    "    save = \"07_UMAP_ImmuneZoom_a_NoInt_Platform_NBAtlas.png\"\n",
    ")"
   ]
  },
  {
   "cell_type": "code",
   "execution_count": null,
   "id": "15c3fe39",
   "metadata": {},
   "outputs": [],
   "source": [
    "adata.write_h5ad(output_dir + \"ImmuneZoom_adata_b_NoInt_5000hvg_NBAtlas.h5ad\")"
   ]
  },
  {
   "cell_type": "markdown",
   "id": "860fce0a",
   "metadata": {},
   "source": [
    "# scVI"
   ]
  },
  {
   "cell_type": "code",
   "execution_count": null,
   "id": "77623e68",
   "metadata": {},
   "outputs": [],
   "source": [
    "adata = sc.read(output_dir + \"ImmuneZoom_adata_b_NoInt_5000hvg_NBAtlas.h5ad\")"
   ]
  },
  {
   "cell_type": "code",
   "execution_count": null,
   "id": "654bf72d",
   "metadata": {
    "scrolled": true
   },
   "outputs": [],
   "source": [
    "adata"
   ]
  },
  {
   "cell_type": "code",
   "execution_count": null,
   "id": "42336b21",
   "metadata": {},
   "outputs": [],
   "source": [
    "adata.obs['Author_annot_unified'] = metadata_annot_immune['Author_annot_unified'].values"
   ]
  },
  {
   "cell_type": "code",
   "execution_count": null,
   "id": "4e89d232",
   "metadata": {},
   "outputs": [],
   "source": [
    "scvi.model.SCVI.setup_anndata(\n",
    "    adata,\n",
    "    layer = \"counts\",\n",
    "    batch_key = \"Sample\"\n",
    ")\n",
    "adata"
   ]
  },
  {
   "cell_type": "code",
   "execution_count": null,
   "id": "aa8a9045",
   "metadata": {},
   "outputs": [],
   "source": [
    "model_kwargs = {\n",
    "    \"encode_covariates\": True,\n",
    "    \"deeply_inject_covariates\": False, \n",
    "    \"use_layer_norm\": \"both\",\n",
    "    \"use_batch_norm\": \"none\"\n",
    "}"
   ]
  },
  {
   "cell_type": "code",
   "execution_count": null,
   "id": "6b011554",
   "metadata": {},
   "outputs": [],
   "source": [
    "model = scvi.model.SCVI(adata,    \n",
    "    n_layers=2 \n",
    "    )\n",
    "model"
   ]
  },
  {
   "cell_type": "code",
   "execution_count": null,
   "id": "67c17d92",
   "metadata": {},
   "outputs": [],
   "source": [
    "# early_stopping_kwargs\n",
    "trainer_kwargs = {\n",
    "    \"save_best_state_metric\": \"elbo\", \n",
    "    \"early_stopping_patience\": 10, #quicker stopping\n",
    "    \"threshold\": 0, \n",
    "    \"reduce_lr_on_plateau\": True, \n",
    "}\n",
    "loss_kwargs = {\n",
    "    \"lr_patience\": 8, \n",
    "    \"lr_factor\": 0.1   \n",
    "}"
   ]
  },
  {
   "cell_type": "code",
   "execution_count": null,
   "id": "7a4c1507",
   "metadata": {},
   "outputs": [],
   "source": [
    "model.view_anndata_setup() #check model"
   ]
  },
  {
   "cell_type": "code",
   "execution_count": null,
   "id": "5142342c",
   "metadata": {},
   "outputs": [],
   "source": [
    "print(\"Start =\", datetime.now().strftime(\"%H:%M:%S\"))\n",
    "\n",
    "model.train(max_epochs = 500, early_stopping=True)\n",
    "\n",
    "print(\"End =\", datetime.now().strftime(\"%H:%M:%S\"))"
   ]
  },
  {
   "cell_type": "code",
   "execution_count": null,
   "id": "b3d2527c",
   "metadata": {},
   "outputs": [],
   "source": [
    "model.save(output_dir + \"07a_scVI_ImmuneZoom_model_covSample_2layers_NBAtlas/\", overwrite=True)"
   ]
  },
  {
   "cell_type": "code",
   "execution_count": null,
   "id": "2b6f327c",
   "metadata": {},
   "outputs": [],
   "source": [
    "# Reload\n",
    "model = scvi.model.SCVI.load(dir_path=output_dir + \"07a_scVI_ImmuneZoom_model_covSample_3layers_NBAtlas/\", adata=adata, use_gpu=True)"
   ]
  },
  {
   "cell_type": "code",
   "execution_count": null,
   "id": "c30def36",
   "metadata": {},
   "outputs": [],
   "source": [
    "#plot\n",
    "plt.plot(model.history[\"elbo_train\"], label=\"train\") #elbo_train_set\n",
    "plt.plot(model.history[\"elbo_validation\"], label=\"test\")\n",
    "plt.title(\"Negative ELBO over training epochs\")\n",
    "plt.legend()"
   ]
  },
  {
   "cell_type": "code",
   "execution_count": null,
   "id": "26c34de1",
   "metadata": {},
   "outputs": [],
   "source": [
    "adata.obsm['X_pca_NoInt'] = adata.obsm['X_pca'].copy()\n",
    "adata.obsm['X_umap_NoInt'] = adata.obsm['X_umap'].copy()"
   ]
  },
  {
   "cell_type": "code",
   "execution_count": null,
   "id": "5912b4b3",
   "metadata": {},
   "outputs": [],
   "source": [
    "adata.obsm[\"X_scVI\"] = model.get_latent_representation() #store in adata\n",
    "denoised_genes = model.get_normalized_expression( # store denoised values\n",
    "    library_size=10e4,\n",
    "    n_samples=1 # increase for Monte Carlo sampling\n",
    ")\n",
    "adata.layers[\"scvi_normalized\"] = denoised_genes\n",
    "adata.layers[\"scvi_normalized\"] = sp.sparse.csr_matrix(adata.layers[\"scvi_normalized\"])"
   ]
  },
  {
   "cell_type": "code",
   "execution_count": null,
   "id": "3576601f",
   "metadata": {},
   "outputs": [],
   "source": [
    "sc.pp.neighbors(adata, n_pcs=15, n_neighbors=20, use_rep = \"X_scVI\")\n",
    "sc.tl.umap(adata, min_dist = 0.6)"
   ]
  },
  {
   "cell_type": "code",
   "execution_count": null,
   "id": "74994f85",
   "metadata": {},
   "outputs": [],
   "source": [
    "sc.pl.umap(\n",
    "    adata,\n",
    "    color = [\"Study\"],\n",
    "    save = \"07_UMAP_ImmuneZoom_c_scVI_covSample_2layers_Study_NBAtlas.png\"\n",
    ")"
   ]
  },
  {
   "cell_type": "code",
   "execution_count": null,
   "id": "2e2afac6",
   "metadata": {},
   "outputs": [],
   "source": [
    "sc.pl.umap(\n",
    "    adata,\n",
    "    color = [\"Assay\"],\n",
    "    save = \"07_UMAP_ImmuneZoom_c_scVI_covSample_2layers_Assay_NBAtlas.png\"\n",
    ")"
   ]
  },
  {
   "cell_type": "code",
   "execution_count": null,
   "id": "eaf9d810",
   "metadata": {},
   "outputs": [],
   "source": [
    "sc.pl.umap(\n",
    "    adata,\n",
    "    color = [\"Sample\"],\n",
    "    save = \"07_UMAP_ImmuneZoom_c_scVI_covSample_2layers_Sample_NBAtlas.png\"\n",
    ")"
   ]
  },
  {
   "cell_type": "code",
   "execution_count": null,
   "id": "a3c34d63",
   "metadata": {},
   "outputs": [],
   "source": [
    "sc.tl.leiden(adata, key_added = \"leiden_scVI_res1\", resolution = 1)"
   ]
  },
  {
   "cell_type": "code",
   "execution_count": null,
   "id": "84ff6575",
   "metadata": {},
   "outputs": [],
   "source": [
    "sc.pl.umap(\n",
    "    adata,\n",
    "    color = [\"leiden_scVI_res1\"],\n",
    "    save = \"07_UMAP_ImmuneZoom_c_scVI_covSample_LeidenClusterRes1_NBAtlas.png\"\n",
    ")"
   ]
  },
  {
   "cell_type": "code",
   "execution_count": null,
   "id": "3064f21f",
   "metadata": {},
   "outputs": [],
   "source": [
    "sc.tl.leiden(adata, key_added = \"leiden_scVI_res2\", resolution = 2)"
   ]
  },
  {
   "cell_type": "code",
   "execution_count": null,
   "id": "d6db2811",
   "metadata": {},
   "outputs": [],
   "source": [
    "sc.pl.umap(\n",
    "    adata,\n",
    "    color = [\"leiden_scVI_res2\"],\n",
    "    save = \"07_UMAP_ImmuneZoom_c_scVI_covSample_LeidenClusterRes2_NBAtlas.png\"\n",
    ")"
   ]
  },
  {
   "cell_type": "code",
   "execution_count": null,
   "id": "2bb6ed38",
   "metadata": {},
   "outputs": [],
   "source": [
    "sc.tl.leiden(adata, key_added = \"leiden_scVI_res3\", resolution = 3)"
   ]
  },
  {
   "cell_type": "code",
   "execution_count": null,
   "id": "cf721151",
   "metadata": {},
   "outputs": [],
   "source": [
    "sc.pl.umap(\n",
    "    adata,\n",
    "    color = [\"leiden_scVI_res3\"],\n",
    "    save = \"07_UMAP_ImmuneZoom_c_scVI_covSample_LeidenClusterRes3_NBAtlas.png\"\n",
    ")"
   ]
  },
  {
   "cell_type": "code",
   "execution_count": null,
   "id": "fc6f6c90",
   "metadata": {},
   "outputs": [],
   "source": [
    "# save\n",
    "adata.write_h5ad(output_dir + \"ImmuneZoom_adata_c_scVI_covSample_2layers_NBAtlas.h5ad\")"
   ]
  },
  {
   "cell_type": "code",
   "execution_count": null,
   "id": "a5882a05",
   "metadata": {},
   "outputs": [],
   "source": [
    "# reload\n",
    "adata = sc.read(output_dir + \"ImmuneZoom_adata_c_scVI_covSample_2layers_NBAtlas.h5ad\")"
   ]
  }
 ],
 "metadata": {
  "kernelspec": {
   "display_name": "Python 3 (ipykernel)",
   "language": "python",
   "name": "python3"
  },
  "language_info": {
   "codemirror_mode": {
    "name": "ipython",
    "version": 3
   },
   "file_extension": ".py",
   "mimetype": "text/x-python",
   "name": "python",
   "nbconvert_exporter": "python",
   "pygments_lexer": "ipython3",
   "version": "3.9.5"
  }
 },
 "nbformat": 4,
 "nbformat_minor": 5
}
