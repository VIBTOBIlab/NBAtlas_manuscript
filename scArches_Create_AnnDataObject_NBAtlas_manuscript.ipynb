{
 "cells": [
  {
   "cell_type": "code",
   "execution_count": null,
   "id": "ee41fa40",
   "metadata": {},
   "outputs": [],
   "source": [
    "import scanpy as sc\n",
    "import scipy as sp\n",
    "import pandas as pd\n",
    "import matplotlib.pyplot as plt\n",
    "import random\n",
    "import numpy as np\n",
    "import os\n",
    "import torch\n",
    "import sys\n",
    "from datetime import datetime\n",
    "\n",
    "from matplotlib import pyplot as plt\n",
    "from datetime import datetime\n",
    "\n",
    "# for white background of figures (only for docs rendering)\n",
    "%config InlineBackend.print_figure_kwargs={'facecolor' : \"w\"}\n",
    "%config InlineBackend.figure_format='retina'\n",
    "\n",
    "#hpc figures\n",
    "%matplotlib inline\n",
    "\n",
    "from IPython.core.interactiveshell import InteractiveShell\n",
    "InteractiveShell.ast_node_interactivity = \"all\" # print multiple outputs per code cell (not just last)"
   ]
  },
  {
   "cell_type": "code",
   "execution_count": null,
   "id": "7a25352b",
   "metadata": {},
   "outputs": [],
   "source": [
    "sc.set_figure_params(figsize=(4, 4), dpi=100, dpi_save=300)"
   ]
  },
  {
   "cell_type": "code",
   "execution_count": null,
   "id": "de7b6e13",
   "metadata": {},
   "outputs": [],
   "source": [
    "nCores = 8\n",
    "sc.settings.n_jobs = nCores #nCores"
   ]
  },
  {
   "cell_type": "code",
   "execution_count": null,
   "id": "03c01b0f",
   "metadata": {},
   "outputs": [],
   "source": [
    "def set_seed(seed):\n",
    "    random.seed(seed)\n",
    "    np.random.seed(seed)\n",
    "    torch.manual_seed(seed)\n",
    "    #scvi.settings.seed = seed # scvi-tools seed\n",
    "    os.environ[\"PYTHONHASHSEED\"] = str(seed)\n",
    "\n",
    "    if torch.cuda.is_available():\n",
    "        torch.cuda.manual_seed(seed)\n",
    "        torch.cuda.manual_seed_all(seed)\n",
    "        torch.backends.cudnn.deterministic = True\n",
    "        torch.backends.cudnn.benchmark = False\n",
    "\n",
    "set_seed(123)"
   ]
  },
  {
   "cell_type": "code",
   "execution_count": null,
   "id": "5c6aad53",
   "metadata": {},
   "outputs": [],
   "source": [
    "!cd /scratch/gent/vo/000/gvo00027/projects/Single_Cell_Neuroblastoma/NBAtlas\n",
    "os.getcwd()"
   ]
  },
  {
   "cell_type": "code",
   "execution_count": null,
   "id": "828a0692",
   "metadata": {},
   "outputs": [],
   "source": [
    "output_dir = \"05b_scArches_Create_AnnDataObject_NBAtlas/\"\n",
    "os.makedirs(output_dir, exist_ok=True)\n",
    "\n",
    "output_tables = output_dir + \"/Tables/\"\n",
    "os.makedirs(output_tables, exist_ok=True)\n",
    "\n",
    "output_figures = output_dir + \"/Figures/\"\n",
    "os.makedirs(output_figures, exist_ok=True)"
   ]
  },
  {
   "cell_type": "markdown",
   "id": "73b2117c",
   "metadata": {},
   "source": [
    "Import"
   ]
  },
  {
   "cell_type": "code",
   "execution_count": null,
   "id": "047d0b5d",
   "metadata": {},
   "outputs": [],
   "source": [
    "adata = sc.read_10x_h5(\"/scratch/gent/vo/000/gvo00027/projects/Single_Cell_Neuroblastoma/NBAtlas/05a_pre_scArches_R_import_NBAtlas/h5objects/nb_matrix_target_data_NBAtlas.h5\")"
   ]
  },
  {
   "cell_type": "code",
   "execution_count": null,
   "id": "939ed8cd",
   "metadata": {},
   "outputs": [],
   "source": [
    "adata"
   ]
  },
  {
   "cell_type": "code",
   "execution_count": null,
   "id": "08747f00",
   "metadata": {},
   "outputs": [],
   "source": [
    "adata.var_names_make_unique()\n",
    "adata"
   ]
  },
  {
   "cell_type": "code",
   "execution_count": null,
   "id": "e27b0826",
   "metadata": {},
   "outputs": [],
   "source": [
    "# metadata\n",
    "metadata = pd.read_csv('05a_pre_scArches_R_import_NBAtlas/Tables/nb_matrix_metadata_target_data_NBAtlas.csv', \n",
    "                       index_col=0)\n",
    "metadata"
   ]
  },
  {
   "cell_type": "code",
   "execution_count": null,
   "id": "22ee9d7b",
   "metadata": {},
   "outputs": [],
   "source": [
    "adata.obs['nCount_RNA'] = metadata['nCount_RNA'].values\n",
    "adata.obs['nFeature_RNA'] = metadata['nFeature_RNA'].values\n",
    "adata.obs['percent_mito'] = metadata['percent_mito'].values\n",
    "adata.obs['Study'] = metadata['Study'].values\n",
    "adata.obs['Assay'] = metadata['Assay'].values\n",
    "adata.obs['Platform'] = metadata['Platform'].values\n",
    "adata.obs['Sample'] = metadata['Sample'].values\n",
    "adata.obs['Author_Annot'] = metadata['Author_Annot'].values\n",
    "\n",
    "\n",
    "adata"
   ]
  },
  {
   "cell_type": "code",
   "execution_count": null,
   "id": "5f8cfa66",
   "metadata": {},
   "outputs": [],
   "source": [
    "sc.write(adata=adata, \n",
    "        filename = '/scratch/gent/vo/000/gvo00027/projects/Single_Cell_Neuroblastoma/NBAtlas/05b_scArches_Create_AnnDataObject_NBAtlas/nb_adata_target_data_NBAtlas.h5ad')"
   ]
  }
 ],
 "metadata": {
  "kernelspec": {
   "display_name": "Python 3 (ipykernel)",
   "language": "python",
   "name": "python3"
  },
  "language_info": {
   "codemirror_mode": {
    "name": "ipython",
    "version": 3
   },
   "file_extension": ".py",
   "mimetype": "text/x-python",
   "name": "python",
   "nbconvert_exporter": "python",
   "pygments_lexer": "ipython3",
   "version": "3.9.5"
  }
 },
 "nbformat": 4,
 "nbformat_minor": 5
}
