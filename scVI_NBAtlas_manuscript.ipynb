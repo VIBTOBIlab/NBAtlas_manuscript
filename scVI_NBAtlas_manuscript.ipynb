{
 "cells": [
  {
   "cell_type": "markdown",
   "id": "1a405b3b",
   "metadata": {},
   "source": [
    "# Setup"
   ]
  },
  {
   "cell_type": "code",
   "execution_count": null,
   "id": "348064da",
   "metadata": {},
   "outputs": [],
   "source": [
    "import scvi\n",
    "\n",
    "import scanpy as sc\n",
    "import scipy as sp\n",
    "import pandas as pd\n",
    "import matplotlib.pyplot as plt\n",
    "import random\n",
    "import numpy as np\n",
    "import os\n",
    "import torch\n",
    "import sys\n",
    "from datetime import datetime\n",
    "\n",
    "from matplotlib import pyplot as plt\n",
    "from datetime import datetime\n",
    "\n",
    "scvi.settings.progress_bar_style = \"tqdm\"\n",
    "\n",
    "# for white background of figures (only for docs rendering)\n",
    "%config InlineBackend.print_figure_kwargs={'facecolor' : \"w\"}\n",
    "%config InlineBackend.figure_format='retina'\n",
    "\n",
    "#hpc figures\n",
    "%matplotlib inline\n",
    "\n",
    "from IPython.core.interactiveshell import InteractiveShell\n",
    "InteractiveShell.ast_node_interactivity = \"all\" # print multiple outputs per code cell (not just last)"
   ]
  },
  {
   "cell_type": "code",
   "execution_count": null,
   "id": "f12622ec",
   "metadata": {},
   "outputs": [],
   "source": [
    "sc.set_figure_params(figsize=(4, 4), dpi=100, dpi_save=300)"
   ]
  },
  {
   "cell_type": "code",
   "execution_count": null,
   "id": "6a7c041f",
   "metadata": {},
   "outputs": [],
   "source": [
    "nCores = 8\n",
    "sc.settings.n_jobs = nCores #nCores\n",
    "scvi.settings.num_threads = nCores # nThreads for PyTorch"
   ]
  },
  {
   "cell_type": "code",
   "execution_count": null,
   "id": "073af74b",
   "metadata": {},
   "outputs": [],
   "source": [
    "def set_seed(seed):\n",
    "    random.seed(seed)\n",
    "    np.random.seed(seed)\n",
    "    torch.manual_seed(seed)\n",
    "    scvi.settings.seed = seed # scvi-tools seed\n",
    "    os.environ[\"PYTHONHASHSEED\"] = str(seed)\n",
    "\n",
    "    if torch.cuda.is_available():\n",
    "        torch.cuda.manual_seed(seed)\n",
    "        torch.cuda.manual_seed_all(seed)\n",
    "        torch.backends.cudnn.deterministic = True\n",
    "        torch.backends.cudnn.benchmark = False\n",
    "\n",
    "set_seed(123)"
   ]
  },
  {
   "cell_type": "code",
   "execution_count": null,
   "id": "bad2ada5",
   "metadata": {},
   "outputs": [],
   "source": [
    "!cd /scratch/gent/vo/000/gvo00027/projects/Single_Cell_Neuroblastoma/NBAtlas\n",
    "os.getcwd()"
   ]
  },
  {
   "cell_type": "code",
   "execution_count": null,
   "id": "2427d465",
   "metadata": {},
   "outputs": [],
   "source": [
    "output_dir = \"03a_scVI_NBAtlas/\"\n",
    "os.makedirs(output_dir, exist_ok=True)\n",
    "\n",
    "output_tables = output_dir + \"/Tables/\"\n",
    "os.makedirs(output_tables, exist_ok=True)\n",
    "\n",
    "output_figures = output_dir + \"/Figures/\"\n",
    "os.makedirs(output_figures, exist_ok=True)"
   ]
  },
  {
   "cell_type": "code",
   "execution_count": null,
   "id": "ca9ae71e",
   "metadata": {},
   "outputs": [],
   "source": [
    "sc.settings.figdir = output_figures"
   ]
  },
  {
   "cell_type": "code",
   "execution_count": null,
   "id": "2d004c14",
   "metadata": {},
   "outputs": [],
   "source": [
    "sc.settings.verbosity = 4"
   ]
  },
  {
   "cell_type": "code",
   "execution_count": null,
   "id": "fab9a195",
   "metadata": {},
   "outputs": [],
   "source": [
    "# mem check\n",
    "ipython_vars = ['In', 'Out', 'exit', 'quit', 'get_ipython', 'ipython_vars']\n",
    "# get memory in bytes\n",
    "mem = {\n",
    "    key: value\n",
    "    for key, value in sorted(\n",
    "        [\n",
    "            (x, sys.getsizeof(globals().get(x)))\n",
    "            for x in dir()\n",
    "            if not x.startswith(\"_\") and x not in sys.modules and x not in ipython_vars\n",
    "        ],\n",
    "        key=lambda x: x[1],\n",
    "        reverse=True,\n",
    "    )\n",
    "}\n",
    "mem"
   ]
  },
  {
   "cell_type": "markdown",
   "id": "fbe02d81",
   "metadata": {},
   "source": [
    "# Import data"
   ]
  },
  {
   "cell_type": "code",
   "execution_count": null,
   "id": "df0ed324",
   "metadata": {},
   "outputs": [],
   "source": [
    "adata = sc.read('02_Create_AnndataObj_NBAtlas/nb_adata_NBAtlas.h5ad')\n",
    "adata"
   ]
  },
  {
   "cell_type": "markdown",
   "id": "1d00a816",
   "metadata": {},
   "source": [
    "Prior to integration"
   ]
  },
  {
   "cell_type": "code",
   "execution_count": null,
   "id": "5a9e69b3",
   "metadata": {},
   "outputs": [],
   "source": [
    "adata.layers[\"counts\"] = adata.X.copy() # preserve counts\n",
    "sc.pp.normalize_total(adata, target_sum=1e4)\n",
    "sc.pp.log1p(adata)\n",
    "adata.raw = adata # freeze the state (with all genes) in `.raw`"
   ]
  },
  {
   "cell_type": "code",
   "execution_count": null,
   "id": "3c993a96",
   "metadata": {},
   "outputs": [],
   "source": [
    "adata"
   ]
  },
  {
   "cell_type": "code",
   "execution_count": null,
   "id": "e1df48db",
   "metadata": {},
   "outputs": [],
   "source": [
    "# save adata before taking HVGs\n",
    "sc.write(adata=adata, \n",
    "        filename = output_dir + 'nb_adata_a_NoInt_norm_full_all_genes_NBAtlas.h5ad') #this is adata_full see below"
   ]
  },
  {
   "cell_type": "code",
   "execution_count": null,
   "id": "21440f95",
   "metadata": {},
   "outputs": [],
   "source": [
    "sc.pp.highly_variable_genes(\n",
    "    adata,\n",
    "    n_top_genes=5000, # or 2000?\n",
    "    subset=True,\n",
    "    layer=\"counts\",\n",
    "    flavor=\"seurat\",\n",
    "    batch_key=\"Study\" #within each batch and merge (avoid batch-specific HVGs)\n",
    ")\n",
    "adata"
   ]
  },
  {
   "cell_type": "code",
   "execution_count": null,
   "id": "cd4a3103",
   "metadata": {},
   "outputs": [],
   "source": [
    "sc.tl.pca(adata)\n",
    "sc.pl.pca_variance_ratio(adata, n_pcs=50)"
   ]
  },
  {
   "cell_type": "code",
   "execution_count": null,
   "id": "4eff3245",
   "metadata": {},
   "outputs": [],
   "source": [
    "sc.pp.neighbors(adata, n_pcs=20, n_neighbors=20)\n",
    "sc.tl.umap(adata, min_dist=0.6)"
   ]
  },
  {
   "cell_type": "code",
   "execution_count": null,
   "id": "1467b851",
   "metadata": {},
   "outputs": [],
   "source": [
    "adata"
   ]
  },
  {
   "cell_type": "code",
   "execution_count": null,
   "id": "91685980",
   "metadata": {},
   "outputs": [],
   "source": [
    "sc.pl.umap(\n",
    "    adata,\n",
    "    color = [\"Sample\"],\n",
    "    save = \"03_UMAP_a_NoInt_Sample_NBAtlas.png\"\n",
    ")"
   ]
  },
  {
   "cell_type": "code",
   "execution_count": null,
   "id": "a792e21f",
   "metadata": {},
   "outputs": [],
   "source": [
    "sc.pl.umap(adata,\n",
    "           color = [\"Study\"],\n",
    "           save = \"03_UMAP_a_NoInt_Study_NBAtlas.png\"\n",
    "    )"
   ]
  },
  {
   "cell_type": "code",
   "execution_count": null,
   "id": "7c70230c",
   "metadata": {},
   "outputs": [],
   "source": [
    "sc.pl.umap(\n",
    "    adata,\n",
    "    color = [\"Assay\"],\n",
    "    save = \"03_UMAP_a_NoInt_Assay_NBAtlas.png\"\n",
    ")"
   ]
  },
  {
   "cell_type": "code",
   "execution_count": null,
   "id": "0f5dc31f",
   "metadata": {},
   "outputs": [],
   "source": [
    "sc.pl.umap(\n",
    "    adata,\n",
    "    color = [\"Platform\"],\n",
    "    save = \"03_UMAP_a_NoInt_Platform_NBAtlas.png\"\n",
    ")"
   ]
  },
  {
   "cell_type": "code",
   "execution_count": null,
   "id": "f98ae757",
   "metadata": {},
   "outputs": [],
   "source": [
    "adata.write_h5ad(output_dir + \"nb_adata_b_NoInt_5000hvg_NBAtlas.h5ad\")"
   ]
  },
  {
   "cell_type": "markdown",
   "id": "d431dcac",
   "metadata": {},
   "source": [
    "Reload"
   ]
  },
  {
   "cell_type": "code",
   "execution_count": null,
   "id": "55c6687c",
   "metadata": {},
   "outputs": [],
   "source": [
    "#adata = sc.read(output_dir + \"nb_adata_b_NoInt_5000hvg_NBAtlas.h5ad\")\n",
    "adata_NoInt = sc.read(output_dir + \"nb_adata_b_NoInt_5000hvg_NBAtlas.h5ad\")\n",
    "adata_NoInt"
   ]
  },
  {
   "cell_type": "code",
   "execution_count": null,
   "id": "6860a575",
   "metadata": {},
   "outputs": [],
   "source": [
    "# save unintegrated umap as csv\n",
    "umap_values = adata_NoInt.obsm['X_umap']\n",
    "data = pd.DataFrame(umap_values, columns=['umap1', 'umap2'])\n",
    "data['cell_name'] = adata_NoInt.obs_names\n",
    "data.to_csv(output_tables + 'nb_adata_b_NoInt_umap_coordinates_NBAtlas.csv', index=False)"
   ]
  },
  {
   "cell_type": "markdown",
   "id": "b8bf045c",
   "metadata": {},
   "source": [
    "# scVI"
   ]
  },
  {
   "cell_type": "code",
   "execution_count": null,
   "id": "2e9be1aa",
   "metadata": {},
   "outputs": [],
   "source": [
    "adata = sc.read(output_dir + \"nb_adata_b_NoInt_5000hvg_NBAtlas.h5ad\")"
   ]
  },
  {
   "cell_type": "code",
   "execution_count": null,
   "id": "61dde3e4",
   "metadata": {},
   "outputs": [],
   "source": [
    "scvi.model.SCVI.setup_anndata(\n",
    "    adata,\n",
    "    layer = \"counts\",\n",
    "    batch_key = \"Sample\"\n",
    ")\n",
    "adata"
   ]
  },
  {
   "cell_type": "code",
   "execution_count": null,
   "id": "b856da05",
   "metadata": {},
   "outputs": [],
   "source": [
    "model.view_anndata_setup() #check model"
   ]
  },
  {
   "cell_type": "code",
   "execution_count": null,
   "id": "291b1a98",
   "metadata": {},
   "outputs": [],
   "source": [
    "model_kwargs = {\n",
    "    \"encode_covariates\": True,\n",
    "    \"deeply_inject_covariates\": False, \n",
    "    \"use_layer_norm\": \"both\",\n",
    "    \"use_batch_norm\": \"none\"\n",
    "}\n",
    "\n",
    "model = scvi.model.SCVI(adata,    \n",
    "    n_layers=2\n",
    "    )\n",
    "\n",
    "model"
   ]
  },
  {
   "cell_type": "code",
   "execution_count": null,
   "id": "91180d9d",
   "metadata": {},
   "outputs": [],
   "source": [
    "# early_stopping_kwargs\n",
    "trainer_kwargs = {\n",
    "    \"early_stopping_monitor\": \"elbo_validation\", #default\n",
    "    \"save_best_state_metric\": \"elbo\",\n",
    "    \"early_stopping_patience\": 10, #quicker stopping\n",
    "    \"threshold\": 0, \n",
    "    \"reduce_lr_on_plateau\": True, \n",
    "}\n",
    "\n",
    "loss_kwargs = {\n",
    "    \"lr_patience\": 8, \n",
    "    \"lr_factor\": 0.1 \n",
    "}"
   ]
  },
  {
   "cell_type": "code",
   "execution_count": null,
   "id": "499a9da7",
   "metadata": {},
   "outputs": [],
   "source": [
    "print(\"Start =\", datetime.now().strftime(\"%H:%M:%S\"))\n",
    "\n",
    "model.train(max_epochs = 500, early_stopping=True)\n",
    "\n",
    "print(\"End =\", datetime.now().strftime(\"%H:%M:%S\"))"
   ]
  },
  {
   "cell_type": "code",
   "execution_count": null,
   "id": "ff0d4ee0",
   "metadata": {},
   "outputs": [],
   "source": [
    "model.save(output_dir + \"03a_scVI_model_covSample_moreEpochs20230322_NBAtlas/\", overwrite=True)"
   ]
  },
  {
   "cell_type": "code",
   "execution_count": null,
   "id": "4487d99d",
   "metadata": {},
   "outputs": [],
   "source": [
    "model = scvi.model.SCVI.load(dir_path=output_dir + \"03a_scVI_model_covSample_moreEpochs20230322_NBAtlas/\", adata=adata, use_gpu=True)"
   ]
  },
  {
   "cell_type": "code",
   "execution_count": null,
   "id": "558cd26a",
   "metadata": {},
   "outputs": [],
   "source": [
    "#plot\n",
    "plt.plot(model.history[\"elbo_train\"], label=\"train\") #elbo_train_set\n",
    "plt.plot(model.history[\"elbo_validation\"], label=\"test\")\n",
    "plt.title(\"Negative ELBO over training epochs\")\n",
    "plt.legend()"
   ]
  },
  {
   "cell_type": "code",
   "execution_count": null,
   "id": "71321113",
   "metadata": {},
   "outputs": [],
   "source": [
    "adata.obsm['X_pca_NoInt'] = adata.obsm['X_pca'].copy()\n",
    "adata.obsm['X_umap_NoInt'] = adata.obsm['X_umap'].copy()"
   ]
  },
  {
   "cell_type": "code",
   "execution_count": null,
   "id": "9bf7c6da",
   "metadata": {},
   "outputs": [],
   "source": [
    "adata.obsm[\"X_scVI\"] = model.get_latent_representation() #store in adata\n",
    "denoised_genes = model.get_normalized_expression( \n",
    "    library_size=10e4,\n",
    "    n_samples=1\n",
    ")\n",
    "adata.layers[\"scvi_normalized\"] = denoised_genes\n",
    "adata.layers[\"scvi_normalized\"] = sp.sparse.csr_matrix(adata.layers[\"scvi_normalized\"])"
   ]
  },
  {
   "cell_type": "code",
   "execution_count": null,
   "id": "fae28eb2",
   "metadata": {},
   "outputs": [],
   "source": [
    "sc.pp.neighbors(adata, n_pcs=15, n_neighbors=20, use_rep = \"X_scVI\")\n",
    "sc.tl.umap(adata, min_dist = 0.6)"
   ]
  },
  {
   "cell_type": "code",
   "execution_count": null,
   "id": "9344fdef",
   "metadata": {},
   "outputs": [],
   "source": [
    "sc.pl.umap(\n",
    "    adata,\n",
    "    color = [\"Study\"],\n",
    "    save = \"03_UMAP_c_scVI_covSample_moreEpochs20232203_Study_NBAtlas.png\"\n",
    ")"
   ]
  },
  {
   "cell_type": "code",
   "execution_count": null,
   "id": "694d6de3",
   "metadata": {},
   "outputs": [],
   "source": [
    "sc.pl.umap(\n",
    "    adata,\n",
    "    color = [\"Assay\"],\n",
    "    save = \"03_UMAP_c_scVI_covSample_moreEpochs_Assay_NBAtlas.png\"\n",
    ")"
   ]
  },
  {
   "cell_type": "code",
   "execution_count": null,
   "id": "fc9699c2",
   "metadata": {},
   "outputs": [],
   "source": [
    "sc.pl.umap(\n",
    "    adata,\n",
    "    color = [\"Sample\"],\n",
    "    save = \"03_UMAP_c_scVI_covSample_moreEpochs_Sample_NBAtlas.png\"\n",
    ")"
   ]
  },
  {
   "cell_type": "code",
   "execution_count": null,
   "id": "1ae1474b",
   "metadata": {},
   "outputs": [],
   "source": [
    "# metadata ext\n",
    "metadata = pd.read_csv('01_Import_Preprocessing_NBAtlas/Tables/nb_matrix_metadata_ext.csv', \n",
    "                       index_col=0)\n",
    "#metadata\n",
    "\n",
    "adata.obs['Author_annot_unified'] = metadata['Author_annot_unified'].values"
   ]
  },
  {
   "cell_type": "code",
   "execution_count": null,
   "id": "5b7edc23",
   "metadata": {},
   "outputs": [],
   "source": [
    "sc.pl.umap(\n",
    "    adata,\n",
    "    color = [\"Author_annot_unified\"],\n",
    "    save = \"03_UMAP_c_scVI_covSample_moreEpochs_AuthorAnnotUnified_NBAtlas.png\"\n",
    ")"
   ]
  },
  {
   "cell_type": "code",
   "execution_count": null,
   "id": "b9f2548c",
   "metadata": {},
   "outputs": [],
   "source": [
    "sc.pl.umap(\n",
    "    adata,\n",
    "    color = [\"PHOX2B\", \"PTPRC\", \"B2M\"],\n",
    "    vmin='p2', vmax='p98'\n",
    ")"
   ]
  },
  {
   "cell_type": "markdown",
   "id": "e1a30513",
   "metadata": {},
   "source": [
    "### Clustering"
   ]
  },
  {
   "cell_type": "code",
   "execution_count": null,
   "id": "0d24cb20",
   "metadata": {},
   "outputs": [],
   "source": [
    "sc.tl.leiden(adata, key_added = \"leiden_scVI_res1\", resolution = 1)"
   ]
  },
  {
   "cell_type": "code",
   "execution_count": null,
   "id": "80d20315",
   "metadata": {},
   "outputs": [],
   "source": [
    "sc.pl.umap(\n",
    "    adata,\n",
    "    color = [\"leiden_scVI_res1\"],\n",
    "    legend_loc=\"on data\"\n",
    ")"
   ]
  },
  {
   "cell_type": "code",
   "execution_count": null,
   "id": "154a0798",
   "metadata": {},
   "outputs": [],
   "source": [
    "sc.tl.leiden(adata, key_added = \"leiden_scVI_res1.5\", resolution = 1.5)"
   ]
  },
  {
   "cell_type": "code",
   "execution_count": null,
   "id": "b13a7c66",
   "metadata": {},
   "outputs": [],
   "source": [
    "sc.pl.umap(\n",
    "    adata,\n",
    "    color = [\"leiden_scVI_res1.5\"],\n",
    "    legend_loc=\"on data\"\n",
    ")"
   ]
  },
  {
   "cell_type": "code",
   "execution_count": null,
   "id": "f58947c2",
   "metadata": {},
   "outputs": [],
   "source": [
    "sc.tl.leiden(adata, key_added = \"leiden_scVI_res3\", resolution = 3)"
   ]
  },
  {
   "cell_type": "code",
   "execution_count": null,
   "id": "af096ed9",
   "metadata": {},
   "outputs": [],
   "source": [
    "sc.pl.umap(\n",
    "    adata,\n",
    "    color = [\"leiden_scVI_res3\"],\n",
    "    legend_loc=\"on data\"\n",
    ")"
   ]
  },
  {
   "cell_type": "code",
   "execution_count": null,
   "id": "4a554638",
   "metadata": {},
   "outputs": [],
   "source": [
    "sc.tl.leiden(adata, key_added = \"leiden_scVI_res2\", resolution = 2)"
   ]
  },
  {
   "cell_type": "code",
   "execution_count": null,
   "id": "3a79b965",
   "metadata": {},
   "outputs": [],
   "source": [
    "# save\n",
    "adata.write_h5ad(output_dir + \"nb_adata_c_scVI_covSample_moreEpochs20230322_NBAtlas.h5ad\")"
   ]
  },
  {
   "cell_type": "markdown",
   "id": "07d72076",
   "metadata": {},
   "source": [
    "Reload"
   ]
  },
  {
   "cell_type": "code",
   "execution_count": null,
   "id": "2a94946b",
   "metadata": {},
   "outputs": [],
   "source": [
    "adata = sc.read(output_dir + \"nb_adata_c_scVI_covSample_moreEpochs20230322_NBAtlas.h5ad\")"
   ]
  },
  {
   "cell_type": "code",
   "execution_count": null,
   "id": "f973b880",
   "metadata": {},
   "outputs": [],
   "source": [
    "print(scvi.__version__) #https://docs.scvi-tools.org/en/0.16.4/api/user.html\n",
    "print(sc.__version__)"
   ]
  }
 ],
 "metadata": {
  "kernelspec": {
   "display_name": "Python 3 (ipykernel)",
   "language": "python",
   "name": "python3"
  },
  "language_info": {
   "codemirror_mode": {
    "name": "ipython",
    "version": 3
   },
   "file_extension": ".py",
   "mimetype": "text/x-python",
   "name": "python",
   "nbconvert_exporter": "python",
   "pygments_lexer": "ipython3",
   "version": "3.9.5"
  }
 },
 "nbformat": 4,
 "nbformat_minor": 5
}
