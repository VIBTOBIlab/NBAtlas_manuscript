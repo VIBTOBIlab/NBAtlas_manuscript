{
 "cells": [
  {
   "cell_type": "code",
   "execution_count": null,
   "id": "0442cdaa",
   "metadata": {},
   "outputs": [],
   "source": [
    "import scvi\n",
    "\n",
    "import scanpy as sc\n",
    "import scipy as sp\n",
    "import pandas as pd\n",
    "import matplotlib.pyplot as plt\n",
    "import random\n",
    "import numpy as np\n",
    "import os\n",
    "import torch\n",
    "import sys\n",
    "from datetime import datetime\n",
    "import scarches as sca\n",
    "\n",
    "from matplotlib import pyplot as plt\n",
    "from datetime import datetime\n",
    "\n",
    "scvi.settings.progress_bar_style = \"tqdm\"\n",
    "\n",
    "# for white background of figures (only for docs rendering)\n",
    "%config InlineBackend.print_figure_kwargs={'facecolor' : \"w\"}\n",
    "%config InlineBackend.figure_format='retina'\n",
    "\n",
    "#hpc figures\n",
    "%matplotlib inline\n",
    "\n",
    "from IPython.core.interactiveshell import InteractiveShell\n",
    "InteractiveShell.ast_node_interactivity = \"all\" # print multiple outputs per code cell (not just last)"
   ]
  },
  {
   "cell_type": "code",
   "execution_count": null,
   "id": "4a9593ab",
   "metadata": {},
   "outputs": [],
   "source": [
    "sc.set_figure_params(figsize=(4, 4), dpi=100, dpi_save=300)"
   ]
  },
  {
   "cell_type": "code",
   "execution_count": null,
   "id": "fc6ebc92",
   "metadata": {},
   "outputs": [],
   "source": [
    "nCores = 8\n",
    "sc.settings.n_jobs = nCores #nCores\n",
    "scvi.settings.num_threads = nCores # nThreads for PyTorch"
   ]
  },
  {
   "cell_type": "code",
   "execution_count": null,
   "id": "102b4ce9",
   "metadata": {},
   "outputs": [],
   "source": [
    "def set_seed(seed):\n",
    "    random.seed(seed)\n",
    "    np.random.seed(seed)\n",
    "    torch.manual_seed(seed)\n",
    "    scvi.settings.seed = seed # scvi-tools seed\n",
    "    os.environ[\"PYTHONHASHSEED\"] = str(seed)\n",
    "\n",
    "    if torch.cuda.is_available():\n",
    "        torch.cuda.manual_seed(seed)\n",
    "        torch.cuda.manual_seed_all(seed)\n",
    "        torch.backends.cudnn.deterministic = True\n",
    "        torch.backends.cudnn.benchmark = False\n",
    "\n",
    "set_seed(123)"
   ]
  },
  {
   "cell_type": "code",
   "execution_count": null,
   "id": "047738c0",
   "metadata": {},
   "outputs": [],
   "source": [
    "!cd /scratch/gent/vo/000/gvo00027/projects/Single_Cell_Neuroblastoma/NBAtlas\n",
    "os.getcwd()"
   ]
  },
  {
   "cell_type": "code",
   "execution_count": null,
   "id": "063386cd",
   "metadata": {},
   "outputs": [],
   "source": [
    "output_dir = \"05c_scArches_SCANVI_NBAtlas_v2/\"\n",
    "os.makedirs(output_dir, exist_ok=True)\n",
    "\n",
    "output_tables = output_dir + \"/Tables/\"\n",
    "os.makedirs(output_tables, exist_ok=True)\n",
    "\n",
    "output_figures = output_dir + \"/Figures/\"\n",
    "os.makedirs(output_figures, exist_ok=True)"
   ]
  },
  {
   "cell_type": "code",
   "execution_count": null,
   "id": "b12ce6d3",
   "metadata": {},
   "outputs": [],
   "source": [
    "sc.settings.figdir = output_figures"
   ]
  },
  {
   "cell_type": "code",
   "execution_count": null,
   "id": "80fea9c5",
   "metadata": {},
   "outputs": [],
   "source": [
    "sc.settings.verbosity = 4"
   ]
  },
  {
   "cell_type": "code",
   "execution_count": null,
   "id": "3b2e574d",
   "metadata": {},
   "outputs": [],
   "source": [
    "# check memory by using 'mem'\n",
    "ipython_vars = ['In', 'Out', 'exit', 'quit', 'get_ipython', 'ipython_vars']\n",
    "# get memory in bytes\n",
    "mem = {\n",
    "    key: value\n",
    "    for key, value in sorted(\n",
    "        [\n",
    "            (x, sys.getsizeof(globals().get(x)))\n",
    "            for x in dir()\n",
    "            if not x.startswith(\"_\") and x not in sys.modules and x not in ipython_vars\n",
    "        ],\n",
    "        key=lambda x: x[1],\n",
    "        reverse=True,\n",
    "    )\n",
    "}"
   ]
  },
  {
   "cell_type": "code",
   "execution_count": null,
   "id": "91581697",
   "metadata": {},
   "outputs": [],
   "source": [
    "mem"
   ]
  },
  {
   "cell_type": "markdown",
   "id": "e8093eac",
   "metadata": {},
   "source": [
    "# SCANVI NBAtlas"
   ]
  },
  {
   "cell_type": "markdown",
   "id": "a2f05fae",
   "metadata": {},
   "source": [
    "## Load scvi data"
   ]
  },
  {
   "cell_type": "code",
   "execution_count": null,
   "id": "357f8cf8",
   "metadata": {},
   "outputs": [],
   "source": [
    "source_adata = sc.read(\"03a_scVI_NBAtlas/nb_adata_c_scVI_covSample_moreLayers20230508_NBAtlas.h5ad\") #v2\n",
    "source_adata"
   ]
  },
  {
   "cell_type": "code",
   "execution_count": null,
   "id": "55d47d03",
   "metadata": {},
   "outputs": [],
   "source": [
    "scvi_model = scvi.model.SCVI.load(dir_path=\"03a_scVI_NBAtlas/03a_scVI_model_covSample_moreLayers20230508_NBAtlas/\", adata=source_adata, use_gpu=True)\n",
    "scvi_model"
   ]
  },
  {
   "cell_type": "code",
   "execution_count": null,
   "id": "777847ce",
   "metadata": {},
   "outputs": [],
   "source": [
    "# add annotation\n",
    "# metadata\n",
    "metadata = pd.read_csv('/scratch/gent/vo/000/gvo00027/projects/Single_Cell_Neuroblastoma/NBAtlas/03c_post_scVI_R_plots/Tables/03c_post_scVI_R_plots_covSample_MetaData_AnnotationForscArches.csv', \n",
    "                       index_col=0)\n",
    "metadata"
   ]
  },
  {
   "cell_type": "code",
   "execution_count": null,
   "id": "79a464cf",
   "metadata": {},
   "outputs": [],
   "source": [
    "source_adata.obs['annot_NBN_scarches'] = metadata['annot_NBN_scarches'].values"
   ]
  },
  {
   "cell_type": "code",
   "execution_count": null,
   "id": "1be6ef3d",
   "metadata": {},
   "outputs": [],
   "source": [
    "scanvi = scvi.model.SCANVI.from_scvi_model(adata = source_adata,\n",
    "                                           scvi_model = scvi_model,\n",
    "                                           labels_key = \"annot_NBN_scarches\",\n",
    "                                           unlabeled_category = \"not assigned\",\n",
    "                                           n_layers = 4 #v2                                           \n",
    ")"
   ]
  },
  {
   "cell_type": "code",
   "execution_count": null,
   "id": "e34a2d00",
   "metadata": {},
   "outputs": [],
   "source": [
    "print(\"Labelled Indices: \", len(scanvi._labeled_indices))\n",
    "print(\"Unlabelled Indices: \", len(scanvi._unlabeled_indices))"
   ]
  },
  {
   "cell_type": "code",
   "execution_count": null,
   "id": "47386704",
   "metadata": {},
   "outputs": [],
   "source": [
    "# early_stopping_kwargs\n",
    "trainer_kwargs = {\n",
    "    \"early_stopping_monitor\": \"elbo_validation\", #default\n",
    "    \"save_best_state_metric\": \"elbo\", \n",
    "    \"early_stopping_patience\": 10, #quicker stopping\n",
    "    \"threshold\": 0, \n",
    "    \"reduce_lr_on_plateau\": True,\n",
    "}\n",
    "\n",
    "loss_kwargs = {\n",
    "    \"lr_patience\": 8, \n",
    "    \"lr_factor\": 0.1   \n",
    "}"
   ]
  },
  {
   "cell_type": "code",
   "execution_count": null,
   "id": "9a2124e4",
   "metadata": {},
   "outputs": [],
   "source": [
    "print(\"Start =\", datetime.now().strftime(\"%H:%M:%S\"))\n",
    "\n",
    "scanvi.train(max_epochs = 500,  \n",
    "             use_gpu = True, \n",
    "             early_stopping = True)\n",
    "\n",
    "print(\"End =\", datetime.now().strftime(\"%H:%M:%S\"))"
   ]
  },
  {
   "cell_type": "code",
   "execution_count": null,
   "id": "9fa59717",
   "metadata": {},
   "outputs": [],
   "source": [
    "scanvi.save(output_dir + \"05c_scArches_SCANVImodel_TrainedOn_annotNBNscarches_NBAtlas/\", overwrite=True)"
   ]
  },
  {
   "cell_type": "code",
   "execution_count": null,
   "id": "deb4f70c",
   "metadata": {},
   "outputs": [],
   "source": [
    "# reload\n",
    "scanvi = scvi.model.SCANVI.load(output_dir + \"05c_scArches_SCANVImodel_TrainedOn_annotNBNscarches_NBAtlas/\", adata = source_adata, use_gpu=True)"
   ]
  },
  {
   "cell_type": "code",
   "execution_count": null,
   "id": "f604fb2e",
   "metadata": {},
   "outputs": [],
   "source": [
    "#plot\n",
    "plt.plot(scanvi.history[\"elbo_train\"], label=\"train\") #elbo_train_set\n",
    "plt.plot(scanvi.history[\"elbo_validation\"], label=\"test\")\n",
    "plt.title(\"Negative ELBO over training epochs\")\n",
    "plt.legend()"
   ]
  },
  {
   "cell_type": "code",
   "execution_count": null,
   "id": "3a48e080",
   "metadata": {},
   "outputs": [],
   "source": [
    "source_adata.obsm[\"X_scANVI\"] = scanvi.get_latent_representation(source_adata) "
   ]
  },
  {
   "cell_type": "code",
   "execution_count": null,
   "id": "409daaf0",
   "metadata": {},
   "outputs": [],
   "source": [
    "sc.pp.neighbors(source_adata, use_rep=\"X_scANVI\")\n",
    "sc.tl.leiden(source_adata)\n",
    "sc.tl.umap(source_adata)"
   ]
  },
  {
   "cell_type": "code",
   "execution_count": null,
   "id": "00b9ebaf",
   "metadata": {},
   "outputs": [],
   "source": [
    "sc.pl.umap(\n",
    "    source_adata, \n",
    "    color=[\"Study\"],\n",
    "    save = \"05c_scArches_scANVI_UMAP_source_TrainedOn_AnnotNBNscarches_colStudy_NBAtlas.png\"\n",
    ")"
   ]
  },
  {
   "cell_type": "code",
   "execution_count": null,
   "id": "559de6e1",
   "metadata": {},
   "outputs": [],
   "source": [
    "sc.pl.umap(\n",
    "    source_adata, \n",
    "    color=[\"Sample\"],\n",
    "    save = \"05c_scArches_scANVI_UMAP_source_TrainedOn_AnnotNBNscarches_colSample_NBAtlas.png\"\n",
    ")"
   ]
  },
  {
   "cell_type": "code",
   "execution_count": null,
   "id": "e83c6906",
   "metadata": {},
   "outputs": [],
   "source": [
    "sc.pl.umap(\n",
    "    source_adata, \n",
    "    color=[\"Assay\"],\n",
    "    save = \"05c_scArches_scANVI_UMAP_source_TrainedOn_AnnotNBNscarches_colAssay_NBAtlas.png\"\n",
    ")"
   ]
  },
  {
   "cell_type": "code",
   "execution_count": null,
   "id": "aa60ce1c",
   "metadata": {},
   "outputs": [],
   "source": [
    "sc.pl.umap(\n",
    "    source_adata, \n",
    "    color=[\"annot_NBN_scarches\"],\n",
    "    save = \"05c_scArches_scANVI_UMAP_source_TrainedOn_AnnotNBNscarches_colAnnotNBNscarches_NBAtlas.png\"\n",
    ")"
   ]
  },
  {
   "cell_type": "code",
   "execution_count": null,
   "id": "e85e41a3",
   "metadata": {},
   "outputs": [],
   "source": [
    "source_adata.write_h5ad(output_dir + \"05c_scArches_scANVI_source_adata_NBAtlas.h5ad\")"
   ]
  },
  {
   "cell_type": "code",
   "execution_count": null,
   "id": "8a305a54",
   "metadata": {},
   "outputs": [],
   "source": [
    "# reload\n",
    "source_adata = sc.read(output_dir + \"05c_scArches_scANVI_source_adata_NBAtlas.h5ad\")"
   ]
  },
  {
   "cell_type": "code",
   "execution_count": null,
   "id": "df786208",
   "metadata": {},
   "outputs": [],
   "source": [
    "source_adata"
   ]
  },
  {
   "cell_type": "markdown",
   "id": "d59e578f",
   "metadata": {},
   "source": [
    "## Import Target"
   ]
  },
  {
   "cell_type": "code",
   "execution_count": null,
   "id": "626c8bb4",
   "metadata": {},
   "outputs": [],
   "source": [
    "target_adata = sc.read(\"/scratch/gent/vo/000/gvo00027/projects/Single_Cell_Neuroblastoma/NBAtlas/05b_scArches_Create_AnnDataObject_NBAtlas/nb_adata_target_data_NBAtlas.h5ad\")\n",
    "target_adata"
   ]
  },
  {
   "cell_type": "code",
   "execution_count": null,
   "id": "44f8d132",
   "metadata": {},
   "outputs": [],
   "source": [
    "# use pretrained scanvi to prepare target_adata\n",
    "scanvi.prepare_query_anndata(adata = target_adata, \n",
    "                                       reference_model = scanvi) #return_reference_var_names = True"
   ]
  },
  {
   "cell_type": "code",
   "execution_count": null,
   "id": "35c1eaec",
   "metadata": {},
   "outputs": [],
   "source": [
    "target_adata #make sure batch param is in target"
   ]
  },
  {
   "cell_type": "code",
   "execution_count": null,
   "id": "745ddd42",
   "metadata": {},
   "outputs": [],
   "source": [
    "source_adata"
   ]
  },
  {
   "cell_type": "code",
   "execution_count": null,
   "id": "f36a5c2d",
   "metadata": {},
   "outputs": [],
   "source": [
    "target_adata.layers[\"counts\"] = target_adata.X.copy() # otherwise error 'counts is not a valid key in adata.layers'\n",
    "target_adata"
   ]
  },
  {
   "cell_type": "code",
   "execution_count": null,
   "id": "3f532ebf",
   "metadata": {},
   "outputs": [],
   "source": [
    "scarches = sca.models.SCANVI.load_query_data(\n",
    "    target_adata,\n",
    "    reference_model = scanvi, \n",
    "    freeze_dropout = True,\n",
    ") "
   ]
  },
  {
   "cell_type": "code",
   "execution_count": null,
   "id": "a6523d18",
   "metadata": {},
   "outputs": [],
   "source": [
    "scarches._labeled_indices # empty"
   ]
  },
  {
   "cell_type": "code",
   "execution_count": null,
   "id": "74f0493b",
   "metadata": {},
   "outputs": [],
   "source": [
    "print(\"Start =\", datetime.now().strftime(\"%H:%M:%S\"))\n",
    "\n",
    "scarches.train(\n",
    "    max_epochs=500,\n",
    "    plan_kwargs=dict(weight_decay=0.0),\n",
    "    check_val_every_n_epoch=5)\n",
    "\n",
    "print(\"End =\", datetime.now().strftime(\"%H:%M:%S\"))"
   ]
  },
  {
   "cell_type": "code",
   "execution_count": null,
   "id": "70848ced",
   "metadata": {},
   "outputs": [],
   "source": [
    "scarches.save(output_dir + \"05c_scArches_scArches-scANVI_SurgeryModel_target_NBAtlas/\", overwrite=True)"
   ]
  },
  {
   "cell_type": "code",
   "execution_count": null,
   "id": "6ee0c36d",
   "metadata": {},
   "outputs": [],
   "source": [
    "# reload\n",
    "scarches = sca.models.SCANVI.load(output_dir + \"05c_scArches_scArches-scANVI_SurgeryModel_target_NBAtlas/\", adata=target_adata, use_gpu=True)"
   ]
  },
  {
   "cell_type": "code",
   "execution_count": null,
   "id": "9f845a27",
   "metadata": {},
   "outputs": [],
   "source": [
    "plt.plot(scarches.history[\"elbo_train\"], label=\"train\") #elbo_train_set\n",
    "plt.plot(scarches.history[\"elbo_validation\"], label=\"test\")\n",
    "plt.title(\"Negative ELBO over training epochs\")\n",
    "plt.legend()"
   ]
  },
  {
   "cell_type": "code",
   "execution_count": null,
   "id": "48378afe",
   "metadata": {},
   "outputs": [],
   "source": [
    "target_adata"
   ]
  },
  {
   "cell_type": "code",
   "execution_count": null,
   "id": "4f7e6617",
   "metadata": {},
   "outputs": [],
   "source": [
    "target_adata"
   ]
  },
  {
   "cell_type": "code",
   "execution_count": null,
   "id": "cb80abbb",
   "metadata": {},
   "outputs": [],
   "source": [
    "target_adata.obsm[\"X_scANVI\"] = scarches.get_latent_representation()"
   ]
  },
  {
   "cell_type": "markdown",
   "id": "e33bade0",
   "metadata": {},
   "source": [
    "Predicted celltype using ref annotation"
   ]
  },
  {
   "cell_type": "code",
   "execution_count": null,
   "id": "96782cf9",
   "metadata": {},
   "outputs": [],
   "source": [
    "print(\"Start =\", datetime.now().strftime(\"%H:%M:%S\"))\n",
    "\n",
    "target_adata.obs['predicted_celltype'] = scarches.predict()\n",
    "predictions = scarches.predict(indices = scarches._unlabeled_indices, soft = True)\n",
    "\n",
    "print(\"End =\", datetime.now().strftime(\"%H:%M:%S\"))"
   ]
  },
  {
   "cell_type": "code",
   "execution_count": null,
   "id": "9e3347ee",
   "metadata": {},
   "outputs": [],
   "source": [
    "predictions\n",
    "print(type(predictions))\n",
    "predictions.to_csv(output_tables + \"05c_scArches_scArches-scANVI_target_ProbabilityPerCelltype.csv\")"
   ]
  },
  {
   "cell_type": "markdown",
   "id": "6b077950",
   "metadata": {},
   "source": [
    "Save"
   ]
  },
  {
   "cell_type": "code",
   "execution_count": null,
   "id": "cc2ce71e",
   "metadata": {},
   "outputs": [],
   "source": [
    "target_adata.write_h5ad(output_dir + \"05c_scArches_scArches-scANVI_target_adata_NBAtlas.h5ad\")"
   ]
  },
  {
   "cell_type": "code",
   "execution_count": null,
   "id": "838102ca",
   "metadata": {},
   "outputs": [],
   "source": [
    "# Reload\n",
    "target_adata = sc.read(output_dir + \"05c_scArches_scArches-scANVI_target_adata_NBAtlas.h5ad\")"
   ]
  },
  {
   "cell_type": "markdown",
   "id": "a5cdcd8d",
   "metadata": {},
   "source": [
    "## Ref + target full norm"
   ]
  },
  {
   "cell_type": "code",
   "execution_count": null,
   "id": "1a582791",
   "metadata": {},
   "outputs": [],
   "source": [
    "source_adata = sc.read(\"03a_scVI_NBAtlas/nb_adata_a_NoInt_norm_full_all_genes_NBAtlas.h5ad\") #v2\n",
    "source_adata"
   ]
  },
  {
   "cell_type": "code",
   "execution_count": null,
   "id": "b5ac7fab",
   "metadata": {},
   "outputs": [],
   "source": [
    "target_adata = sc.read(\"/scratch/gent/vo/000/gvo00027/projects/Single_Cell_Neuroblastoma/NBAtlas/05b_scArches_Create_AnnDataObject_NBAtlas/nb_adata_target_data_NBAtlas.h5ad\")\n",
    "target_adata"
   ]
  },
  {
   "cell_type": "code",
   "execution_count": null,
   "id": "78974173",
   "metadata": {},
   "outputs": [],
   "source": [
    "adata_full = target_adata.concatenate(source_adata)\n",
    "adata_full"
   ]
  },
  {
   "cell_type": "code",
   "execution_count": null,
   "id": "d8a2f4e2",
   "metadata": {},
   "outputs": [],
   "source": [
    "adata_full.layers[\"counts\"] = adata_full.X.copy() # preserve counts\n",
    "sc.pp.normalize_total(adata_full, target_sum=1e4)\n",
    "sc.pp.log1p(adata_full)"
   ]
  },
  {
   "cell_type": "code",
   "execution_count": null,
   "id": "c1c54330",
   "metadata": {},
   "outputs": [],
   "source": [
    "adata_full.write_h5ad(output_dir + \"05a_scArches_scArches-scANVI_adata_full_norm_all_genes_NBAtlas.h5ad\")"
   ]
  },
  {
   "cell_type": "markdown",
   "id": "fa7b5589",
   "metadata": {},
   "source": [
    "## Ref + target in scANVI space"
   ]
  },
  {
   "cell_type": "code",
   "execution_count": null,
   "id": "9bcf24c1",
   "metadata": {},
   "outputs": [],
   "source": [
    "# reload\n",
    "source_adata = sc.read(output_dir + \"05c_scArches_scANVI_source_adata_NBAtlas.h5ad\")"
   ]
  },
  {
   "cell_type": "code",
   "execution_count": null,
   "id": "81465fcc",
   "metadata": {},
   "outputs": [],
   "source": [
    "# Reload\n",
    "target_adata = sc.read(output_dir + \"05c_scArches_scArches-scANVI_target_adata_NBAtlas.h5ad\")"
   ]
  },
  {
   "cell_type": "code",
   "execution_count": null,
   "id": "a902eda9",
   "metadata": {},
   "outputs": [],
   "source": [
    "adata_full = target_adata.concatenate(source_adata)"
   ]
  },
  {
   "cell_type": "code",
   "execution_count": null,
   "id": "1e533994",
   "metadata": {},
   "outputs": [],
   "source": [
    "adata_full.obsm[\"X_scANVI\"] = scarches.get_latent_representation(adata_full)"
   ]
  },
  {
   "cell_type": "code",
   "execution_count": null,
   "id": "dd8a3233",
   "metadata": {},
   "outputs": [],
   "source": [
    "sc.pp.neighbors(adata_full, use_rep=\"X_scANVI\")\n",
    "sc.tl.leiden(adata_full)\n",
    "sc.tl.umap(adata_full)"
   ]
  },
  {
   "cell_type": "code",
   "execution_count": null,
   "id": "b84c7148",
   "metadata": {},
   "outputs": [],
   "source": [
    "sc.pl.umap(\n",
    "    adata_full, \n",
    "    color = [\"Study\"],\n",
    "    #save = \"05c_scArches_scArches-scANVI_UMAP_RefAndTarget_colStudy_NBAtlas.png\"\n",
    ")"
   ]
  },
  {
   "cell_type": "code",
   "execution_count": null,
   "id": "99bdfaef",
   "metadata": {},
   "outputs": [],
   "source": [
    "# set same categories for 'predicted_celltype' as 'annot_NBN_scarches' to get same coloring\n",
    "adata_full.obs['Study_v2'] = adata_full.obs['Study'].cat.set_categories(source_adata.obs['Study'].cat.categories) #new studies get NA"
   ]
  },
  {
   "cell_type": "code",
   "execution_count": null,
   "id": "35d91f36",
   "metadata": {},
   "outputs": [],
   "source": [
    "sc.pl.umap(\n",
    "    adata_full, \n",
    "    color = [\"Study_v2\"],\n",
    "    save = \"05c_scArches_scArches-scANVI_UMAP_RefAndTarget_colStudy_v2_NBAtlas.pdf\"\n",
    ")"
   ]
  },
  {
   "cell_type": "code",
   "execution_count": null,
   "id": "9657e3bf",
   "metadata": {},
   "outputs": [],
   "source": [
    "# highlight ref - col per study\n",
    "ax = sc.pl.umap(\n",
    "    adata_full,\n",
    "    show=False,\n",
    ")\n",
    "\n",
    "sc.pl.umap(\n",
    "    adata_full[ (adata_full.obs['Study'] != 'Bonine2023_nucleus') & (adata_full.obs['Study'] != 'Bonine2023_cell'), :], \n",
    "    color=[\"Study\"],\n",
    "    ax = ax,\n",
    "    alpha = 0.7,\n",
    "    save = \"05c_scArches_scArches-scANVI_UMAP_RefAndTarget_HighlightRef_Study_NBAtlas.png\"\n",
    ")"
   ]
  },
  {
   "cell_type": "code",
   "execution_count": null,
   "id": "e21e307c",
   "metadata": {},
   "outputs": [],
   "source": [
    "# highlight target - col per study\n",
    "ax = sc.pl.umap(\n",
    "    adata_full,\n",
    "    show=False,\n",
    ")\n",
    "\n",
    "sc.pl.umap(\n",
    "    adata_full[ (adata_full.obs['Study'] == 'Bonine2023_nucleus') | (adata_full.obs['Study'] == 'Bonine2023_cell'), :], \n",
    "    color=[\"Study\"],\n",
    "    ax = ax,\n",
    "    alpha = 0.7,\n",
    "    save = \"05c_scArches_scArches-scANVI_UMAP_RefAndTarget_HighlightTarget_Study_NBAtlas.png\"\n",
    ")"
   ]
  },
  {
   "cell_type": "code",
   "execution_count": null,
   "id": "e42a37cc",
   "metadata": {},
   "outputs": [],
   "source": [
    "sc.pl.umap(\n",
    "    adata_full, \n",
    "    color = [\"annot_NBN_scarches\"],\n",
    "    #save = \"05c_scArches_scArches-scANVI_UMAP_RefAndTarget_colAnnotNBNscarches_NBAtlas.png\"\n",
    ")"
   ]
  },
  {
   "cell_type": "code",
   "execution_count": null,
   "id": "13db35c3",
   "metadata": {},
   "outputs": [],
   "source": [
    "# highlight target manual annotation\n",
    "ax = sc.pl.umap(\n",
    "    adata_full,\n",
    "    show=False,\n",
    ")\n",
    "\n",
    "sc.pl.umap(\n",
    "    adata_full[ adata_full.obs['annot_NBN_scarches'] != 'not assigned', :], \n",
    "    color=[\"annot_NBN_scarches\"],\n",
    "    ax = ax,\n",
    "    alpha = 0.7,\n",
    "    save = \"05c_scArches_scArches-scANVI_UMAP_RefAndTarget_RefAnnot_NBAtlas.png\"\n",
    ")"
   ]
  },
  {
   "cell_type": "code",
   "execution_count": null,
   "id": "b224524d",
   "metadata": {},
   "outputs": [],
   "source": [
    "# highlight target predicted annotation\n",
    "ax = sc.pl.umap(\n",
    "    adata_full,\n",
    "    show=False,\n",
    ")\n",
    "\n",
    "sc.pl.umap(\n",
    "    adata_full[ (adata_full.obs['Study'] == 'Bonine2023_nucleus') | (adata_full.obs['Study'] == 'Bonine2023_cell'), :], \n",
    "    color=[\"predicted_celltype\"],\n",
    "    ax = ax,\n",
    "    alpha = 0.7,\n",
    "    save = \"05c_scArches_scArches-scANVI_UMAP_RefAndTarget_TargetPredictedCelltype_NBAtlas.png\"\n",
    ")"
   ]
  },
  {
   "cell_type": "code",
   "execution_count": null,
   "id": "dd5a0dfc",
   "metadata": {},
   "outputs": [],
   "source": [
    "adata_full"
   ]
  },
  {
   "cell_type": "code",
   "execution_count": null,
   "id": "760374f8",
   "metadata": {},
   "outputs": [],
   "source": [
    "adata_full.write_h5ad(output_dir + \"05c_scArches_scArches-scANVI_adata_full_NBAtlas.h5ad\")"
   ]
  },
  {
   "cell_type": "code",
   "execution_count": null,
   "id": "e178731e",
   "metadata": {},
   "outputs": [],
   "source": [
    "# reload\n",
    "adata_full = sc.read(output_dir + \"05c_scArches_scArches-scANVI_adata_full_NBAtlas.h5ad\")"
   ]
  },
  {
   "cell_type": "code",
   "execution_count": null,
   "id": "889c4894",
   "metadata": {},
   "outputs": [],
   "source": [
    "print(scvi.__version__) #https://docs.scvi-tools.org/en/0.16.4/api/user.html\n",
    "print(sc.__version__)\n",
    "print(sca.__version__)"
   ]
  }
 ],
 "metadata": {
  "kernelspec": {
   "display_name": "Python 3 (ipykernel)",
   "language": "python",
   "name": "python3"
  },
  "language_info": {
   "codemirror_mode": {
    "name": "ipython",
    "version": 3
   },
   "file_extension": ".py",
   "mimetype": "text/x-python",
   "name": "python",
   "nbconvert_exporter": "python",
   "pygments_lexer": "ipython3",
   "version": "3.9.5"
  }
 },
 "nbformat": 4,
 "nbformat_minor": 5
}
