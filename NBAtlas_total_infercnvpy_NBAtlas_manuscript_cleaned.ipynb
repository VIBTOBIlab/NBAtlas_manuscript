{
 "cells": [
  {
   "cell_type": "markdown",
   "id": "1a522830",
   "metadata": {},
   "source": [
    "Set up working environment"
   ]
  },
  {
   "cell_type": "code",
   "execution_count": null,
   "id": "82b4aec3",
   "metadata": {},
   "outputs": [],
   "source": [
    "import scanpy as sc\n",
    "import infercnvpy as cnv\n",
    "import matplotlib as plt\n",
    "import pandas as pd\n",
    "import numpy as np\n",
    "import scipy as sp\n",
    "\n",
    "sc.set_figure_params(figsize=(4,4))\n",
    "sc.set_figure_params(dpi=200)\n",
    "sc.settings.n_jobs = 1 #nCores/CPUs for scanpy\n",
    "\n",
    "# for white background of figures (only for docs rendering)\n",
    "%config InlineBackend.print_figure_kwargs={'facecolor' : \"w\"}\n",
    "%config InlineBackend.figure_format='retina'\n",
    "\n",
    "#hpc figures\n",
    "%matplotlib inline\n",
    "\n",
    "from IPython.core.interactiveshell import InteractiveShell\n",
    "InteractiveShell.ast_node_interactivity = \"all\" # print multiple outputs per code cell (not just last)"
   ]
  },
  {
   "cell_type": "markdown",
   "id": "15d22185",
   "metadata": {},
   "source": [
    "### Step 0: prepare input data"
   ]
  },
  {
   "cell_type": "code",
   "execution_count": null,
   "id": "e95ceaca",
   "metadata": {},
   "outputs": [],
   "source": [
    "h5_path = \"/scratch/gent/vo/000/gvo00027/projects/Single_Cell_Neuroblastoma/NBAtlas/01_Import_Preprocessing_NBAtlas/h5objects/nb_matrix_NBAtlas.h5\"\n",
    "adata = sc.read_10x_h5(h5_path)\n",
    "adata"
   ]
  },
  {
   "cell_type": "code",
   "execution_count": null,
   "metadata": {},
   "outputs": [],
   "source": [
    "meta_path = \"/scratch/gent/vo/000/gvo00027/projects/Single_Cell_Neuroblastoma/NBAtlas/03c_post_scVI_R_plots/Tables/03c_post_scVI_R_plots_covSample_MetaDataForInferCNV.csv\"\n",
    "metaData = pd.read_csv(meta_path, index_col = 0)"
   ]
  },
  {
   "cell_type": "code",
   "execution_count": null,
   "id": "b8fc4d98",
   "metadata": {},
   "outputs": [],
   "source": [
    "adata.obs = metaData\n",
    "\n",
    "adata.obs.index = adata.obs.index.astype(str)\n",
    "\n",
    "adata"
   ]
  },
  {
   "cell_type": "code",
   "execution_count": null,
   "id": "b26b203f",
   "metadata": {},
   "outputs": [],
   "source": [
    "#save raw counts reparately\n",
    "\n",
    "adata.layers[\"counts\"] = adata.X"
   ]
  },
  {
   "cell_type": "code",
   "execution_count": null,
   "id": "44ce7a00",
   "metadata": {},
   "outputs": [],
   "source": [
    "#normalize and transform\n",
    "\n",
    "sc.pp.normalize_total(adata, target_sum=1e4)\n",
    "sc.pp.log1p(adata)"
   ]
  },
  {
   "cell_type": "code",
   "execution_count": null,
   "id": "f2b3b790",
   "metadata": {},
   "outputs": [],
   "source": [
    "#annotate highly variable genes\n",
    "\n",
    "sc.pp.highly_variable_genes(\n",
    "    adata,\n",
    "    n_top_genes=5000,\n",
    "    subset=False,\n",
    "    layer=\"counts\",\n",
    "    flavor=\"seurat\",\n",
    "    batch_key=\"Study\"\n",
    ")"
   ]
  },
  {
   "cell_type": "code",
   "execution_count": null,
   "id": "bc7a4058",
   "metadata": {},
   "outputs": [],
   "source": [
    "#PCA\n",
    "\n",
    "sc.tl.pca(adata)\n",
    "sc.pl.pca_variance_ratio(adata, n_pcs=50)"
   ]
  },
  {
   "cell_type": "code",
   "execution_count": null,
   "id": "a3bcbe13",
   "metadata": {},
   "outputs": [],
   "source": [
    "sc.pp.neighbors(adata, n_pcs=20, n_neighbors=20)\n",
    "sc.tl.umap(adata, min_dist=0.3)"
   ]
  },
  {
   "cell_type": "code",
   "execution_count": null,
   "id": "5364efa8",
   "metadata": {},
   "outputs": [],
   "source": [
    "#compare cell colored by study and by cell type\n",
    "\n",
    "fig, (ax1, ax2) = plt.pyplot.subplots(1, 2, figsize=(15, 5), gridspec_kw=dict(wspace=1))\n",
    "\n",
    "sc.pl.umap(\n",
    "    adata,\n",
    "    color = [\"Study\"],\n",
    "    frameon=True,\n",
    "    show = False, \n",
    "    ax=ax1\n",
    ")\n",
    "\n",
    "sc.pl.umap(\n",
    "    adata,\n",
    "    color = [\"annot_NBN_iCNV\"],\n",
    "    ncols=2,\n",
    "    show= False, \n",
    "    ax = ax2\n",
    ")"
   ]
  },
  {
   "cell_type": "code",
   "execution_count": null,
   "id": "095e77b4",
   "metadata": {},
   "outputs": [],
   "source": [
    "#chack cell types\n",
    "\n",
    "adata.obs[\"annot_NBN_iCNV\"].value_counts()"
   ]
  },
  {
   "cell_type": "code",
   "execution_count": null,
   "id": "628e7205",
   "metadata": {},
   "outputs": [],
   "source": [
    "ref_cells = [\"T/NK cell\", \"Myeloid\", \"B cell\", \"Endothelial\", \"Stromal other\", \"pDC\", \"Plasma\"]"
   ]
  },
  {
   "cell_type": "markdown",
   "id": "da3e314d",
   "metadata": {},
   "source": [
    "### Step 1: annotate anndata genes with their position in the chromosomes\n"
   ]
  },
  {
   "cell_type": "code",
   "execution_count": null,
   "id": "74c2d282",
   "metadata": {},
   "outputs": [],
   "source": [
    "#annotate genomic location of genes\n",
    "\n",
    "cnv.io.genomic_position_from_gtf(\n",
    "    gtf_file= \"/kyukon/scratch/gent/vo/000/gvo00027/projects/CBIGR/22VZZ_singlecellNB/metaanalysis_atlas/data/annot_files_and_more/gencode.v43.annotation.gtf.gz\", \n",
    "    adata=adata, \n",
    "    gtf_gene_id=\"gene_name\")"
   ]
  },
  {
   "cell_type": "markdown",
   "id": "2c4e162b",
   "metadata": {},
   "source": [
    "### Step 2: run CNV inference"
   ]
  },
  {
   "cell_type": "code",
   "execution_count": null,
   "id": "c8c0fe9b",
   "metadata": {},
   "outputs": [],
   "source": [
    "#actual calculation of CNVs happens here\n",
    "\n",
    "%%time\n",
    "\n",
    "cnv.tl.infercnv(\n",
    "    adata,\n",
    "    reference_key=\"annot_NBN_iCNV\",\n",
    "    reference_cat= ref_cells,\n",
    "    window_size=250, \n",
    "    n_jobs=2, \n",
    "    step=1\n",
    ")"
   ]
  },
  {
   "cell_type": "code",
   "execution_count": null,
   "id": "84271c73",
   "metadata": {},
   "outputs": [],
   "source": [
    "#if needed, include chromosome positions based on gene ordering\n",
    "\n",
    "adata.uns[\"cnv\"] = {'chr_pos': {'chr1': 0,\n",
    "  'chr2': 2361,\n",
    "  'chr3': 3928,\n",
    "  'chr4': 5329,\n",
    "  'chr5': 6259,\n",
    "  'chr6': 7355,\n",
    "  'chr7': 8587,\n",
    "  'chr8': 9703,\n",
    "  'chr9': 10488,\n",
    "  'chr10': 11356,\n",
    "  'chr11': 12328,\n",
    "  'chr12': 13608,\n",
    "  'chr13': 14825,\n",
    "  'chr14': 15389,\n",
    "  'chr15': 16223,\n",
    "  'chr16': 16953,\n",
    "  'chr17': 17893,\n",
    "  'chr18': 19207,\n",
    "  'chr19': 19560,\n",
    "  'chr20': 21053,\n",
    "  'chr21': 21699,\n",
    "  'chr22': 21972}}"
   ]
  },
  {
   "cell_type": "code",
   "execution_count": null,
   "id": "0650a64d",
   "metadata": {},
   "outputs": [],
   "source": [
    "#Save or load inferCNV result\n",
    "#sp.sparse.save_npz(\"NBAtlas_X_cnv_step1_wind250.npz\", adata.obsm[\"X_cnv\"], compressed=True)\n",
    "\n",
    "adata.obsm[\"X_cnv\"] = sp.sparse.load_npz(\"NBAtlas_X_cnv_step1_wind250.npz\")"
   ]
  },
  {
   "cell_type": "code",
   "execution_count": null,
   "id": "25fada39",
   "metadata": {},
   "outputs": [],
   "source": [
    "adata"
   ]
  },
  {
   "cell_type": "code",
   "execution_count": null,
   "id": "eb9651a9",
   "metadata": {},
   "outputs": [],
   "source": [
    "#save or load results\n",
    "adata_dest = \"/kyukon/scratch/gent/vo/000/gvo00027/projects/CBIGR/22VZZ_singlecellNB/metaanalysis_atlas/data/NBAtlas_h5ad/NBAtlas_CNVpydata.h5ad\"\n",
    "#adata.write(adata_dest)\n",
    "#adata = sc.read(adata_dest)"
   ]
  },
  {
   "cell_type": "code",
   "execution_count": null,
   "id": "85ba6f1d",
   "metadata": {},
   "outputs": [],
   "source": [
    "adata"
   ]
  },
  {
   "cell_type": "code",
   "execution_count": null,
   "id": "7e5d66ca",
   "metadata": {},
   "outputs": [],
   "source": [
    "import session_info\n",
    "session_info.show(html=False, dependencies=True)"
   ]
  }
 ],
 "metadata": {
  "kernelspec": {
   "display_name": "Python 3 (ipykernel)",
   "language": "python",
   "name": "python3"
  },
  "language_info": {
   "codemirror_mode": {
    "name": "ipython",
    "version": 3
   },
   "file_extension": ".py",
   "mimetype": "text/x-python",
   "name": "python",
   "nbconvert_exporter": "python",
   "pygments_lexer": "ipython3",
   "version": "3.9.5"
  }
 },
 "nbformat": 4,
 "nbformat_minor": 5
}
