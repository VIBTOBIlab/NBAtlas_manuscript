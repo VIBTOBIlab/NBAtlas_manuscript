{
 "cells": [
  {
   "cell_type": "code",
   "execution_count": null,
   "id": "47905418",
   "metadata": {},
   "outputs": [],
   "source": [
    "import scanpy as sc\n",
    "import infercnvpy as cnv\n",
    "import matplotlib as plt\n",
    "import pandas as pd\n",
    "import numpy as np\n",
    "import scipy as sp\n",
    "import random\n",
    "import pickle\n",
    "from scipy.cluster.hierarchy import dendrogram, linkage\n",
    "from scipy.cluster.hierarchy import fcluster\n",
    "from scipy.cluster.hierarchy import cophenet\n",
    "from scipy.spatial.distance import pdist\n",
    "from scipy.cluster.hierarchy import cut_tree\n",
    "\n",
    "sc.set_figure_params(figsize=(4,4))\n",
    "sc.set_figure_params(dpi=200)\n",
    "sc.settings.n_jobs = 3 #nCores/CPUs for scanpy\n",
    "\n",
    "# for white background of figures (only for docs rendering)\n",
    "%config InlineBackend.print_figure_kwargs={'facecolor' : \"w\"}\n",
    "%config InlineBackend.figure_format='retina'\n",
    "\n",
    "#hpc figures\n",
    "np.set_printoptions(precision = 4, suppress = True)\n",
    "%matplotlib inline\n",
    "plt.pyplot.figure(figsize=(10,3))\n",
    "plt.pyplot.style.use('seaborn-whitegrid')\n",
    "\n",
    "from IPython.core.interactiveshell import InteractiveShell\n",
    "InteractiveShell.ast_node_interactivity = \"all\" # print multiple outputs per code cell (not just last)"
   ]
  },
  {
   "cell_type": "markdown",
   "id": "65a96d11",
   "metadata": {},
   "source": [
    "### Step 1: load data"
   ]
  },
  {
   "cell_type": "code",
   "execution_count": null,
   "id": "a02d9cc5",
   "metadata": {},
   "outputs": [],
   "source": [
    "h5_path = \"/scratch/gent/vo/000/gvo00027/projects/Single_Cell_Neuroblastoma/NBAtlas/01_Import_Preprocessing_NBAtlas/h5objects/nb_matrix_NBAtlas.h5\"\n",
    "adata = sc.read_10x_h5(h5_path)\n",
    "adata"
   ]
  },
  {
   "cell_type": "code",
   "execution_count": null,
   "id": "78931260",
   "metadata": {},
   "outputs": [],
   "source": [
    "meta_path = \"/scratch/gent/vo/000/gvo00027/projects/Single_Cell_Neuroblastoma/NBAtlas/03c_post_scVI_R_plots/Tables/03c_post_scVI_R_plots_covSample_MetaDataForInferCNV.csv\"\n",
    "metaData = pd.read_csv(meta_path, index_col = 0)"
   ]
  },
  {
   "cell_type": "code",
   "execution_count": null,
   "id": "4aad2a5f",
   "metadata": {},
   "outputs": [],
   "source": [
    "adata.obs = metaData\n",
    "adata.obs.index = adata.obs.index.astype(str)\n",
    "\n",
    "adata"
   ]
  },
  {
   "cell_type": "code",
   "execution_count": null,
   "id": "b26b203f",
   "metadata": {},
   "outputs": [],
   "source": [
    "#save raw counts reparately\n",
    "\n",
    "adata.layers[\"counts\"] = adata.X"
   ]
  },
  {
   "cell_type": "code",
   "execution_count": null,
   "id": "44ce7a00",
   "metadata": {},
   "outputs": [],
   "source": [
    "#normalize\n",
    "\n",
    "sc.pp.normalize_total(adata, target_sum=1e4)\n",
    "sc.pp.log1p(adata)"
   ]
  },
  {
   "cell_type": "code",
   "execution_count": null,
   "id": "f2b3b790",
   "metadata": {},
   "outputs": [],
   "source": [
    "#find highly variable genes\n",
    "\n",
    "sc.pp.highly_variable_genes(\n",
    "    adata,\n",
    "    n_top_genes=5000,\n",
    "    subset=False,\n",
    "    layer=\"counts\",\n",
    "    flavor=\"seurat\",\n",
    "    batch_key=\"Study\"\n",
    ")"
   ]
  },
  {
   "cell_type": "code",
   "execution_count": null,
   "id": "bc7a4058",
   "metadata": {},
   "outputs": [],
   "source": [
    "#PCA\n",
    "\n",
    "sc.tl.pca(adata)\n",
    "sc.pl.pca_variance_ratio(adata, n_pcs=50)"
   ]
  },
  {
   "cell_type": "code",
   "execution_count": null,
   "id": "a3bcbe13",
   "metadata": {},
   "outputs": [],
   "source": [
    "#Dimensionality reduction\n",
    "\n",
    "sc.pp.neighbors(adata, n_pcs=20, n_neighbors=20)\n",
    "sc.tl.umap(adata, min_dist=0.3)\n"
   ]
  },
  {
   "cell_type": "code",
   "execution_count": null,
   "id": "5364efa8",
   "metadata": {},
   "outputs": [],
   "source": [
    "#Visualize cells colored by study and by annotation (non-integrated)\n",
    "\n",
    "fig, (ax1, ax2) = plt.pyplot.subplots(1, 2, figsize=(15, 5), gridspec_kw=dict(wspace=1))\n",
    "\n",
    "sc.pl.umap(\n",
    "    adata,\n",
    "    color = [\"Study\"],\n",
    "    frameon=True,\n",
    "    show = False, \n",
    "    ax=ax1\n",
    ")\n",
    "\n",
    "sc.pl.umap(\n",
    "    adata,\n",
    "    color = [\"annot_NBN_iCNV\"],\n",
    "    ncols=2,\n",
    "    show= False, \n",
    "    ax = ax2\n",
    ")"
   ]
  },
  {
   "cell_type": "markdown",
   "id": "faa91b65",
   "metadata": {},
   "source": [
    "### Step 2: annotate object with genomic locations"
   ]
  },
  {
   "cell_type": "code",
   "execution_count": null,
   "id": "74c2d282",
   "metadata": {},
   "outputs": [],
   "source": [
    "#annotate genomic location of genes\n",
    "\n",
    "cnv.io.genomic_position_from_gtf(\n",
    "    gtf_file= \"/kyukon/scratch/gent/vo/000/gvo00027/projects/CBIGR/22VZZ_singlecellNB/DongJansky_Meta/data/annot_files_and_more/gencode.v43.annotation.gtf.gz\", \n",
    "    adata=adata, \n",
    "    gtf_gene_id=\"gene_name\")"
   ]
  },
  {
   "cell_type": "markdown",
   "id": "2c4e162b",
   "metadata": {},
   "source": [
    "### Step 3: run CNV inference"
   ]
  },
  {
   "cell_type": "code",
   "execution_count": null,
   "id": "0af79043",
   "metadata": {},
   "outputs": [],
   "source": [
    "#adata.write(\"../../data/NBAtlas_h5ad/NBAtlas_prep_infercnv.h5ad\")\n",
    "adata = sc.read(\"../../data/NBAtlas_h5ad/NBAtlas_prep_infercnv.h5ad\")\n",
    "adata"
   ]
  },
  {
   "cell_type": "code",
   "execution_count": null,
   "id": "095e77b4",
   "metadata": {},
   "outputs": [],
   "source": [
    "#check cell types\n",
    "\n",
    "adata.obs[\"annot_NBN_iCNV\"].value_counts()"
   ]
  },
  {
   "cell_type": "code",
   "execution_count": null,
   "id": "628e7205",
   "metadata": {},
   "outputs": [],
   "source": [
    "#Define reference cell types: \n",
    "\n",
    "ref_cells = [\"T/NK cell\", \"Myeloid\", \"B cell\", \"Endothelial\", \"Stromal other\", \"pDC\", \"Plasma\"]"
   ]
  },
  {
   "cell_type": "code",
   "execution_count": null,
   "id": "c11dea28",
   "metadata": {},
   "outputs": [],
   "source": [
    "# Check names of chromosomes and chromosomes to exclude from the analysis\n",
    "\n",
    "set(adata.var.chromosome)"
   ]
  },
  {
   "cell_type": "code",
   "execution_count": null,
   "id": "23336ff2",
   "metadata": {},
   "outputs": [],
   "source": [
    "chr_to_exclude = [np.nan, 'chrM']"
   ]
  },
  {
   "cell_type": "code",
   "execution_count": null,
   "metadata": {},
   "outputs": [],
   "source": [
    "groups = adata.obs[\"Study\"].values.unique()"
   ]
  },
  {
   "cell_type": "code",
   "execution_count": null,
   "id": "c735347c",
   "metadata": {},
   "outputs": [],
   "source": [
    "for study in groups: #or the set with all of the studies in case you want that\n",
    "\n",
    "    data = adata[adata.obs[\"Study\"] == study,:]\n",
    "    ref_cells_touse = []\n",
    "    #remove reference cell types that are not found in the data subset\n",
    "    for i in ref_cells: \n",
    "        if i in data.obs[\"annot_NBN_iCNV\"].cat.categories:\n",
    "                ref_cells_touse.append(i)\n",
    "    print(study, data.shape)\n",
    "    cnv.tl.infercnv(data, \n",
    "                    reference_key=\"annot_NBN_iCNV\", \n",
    "                    reference_cat=ref_cells_touse, \n",
    "                    exclude_chromosomes=chr_to_exclude, \n",
    "                    window_size=250, \n",
    "                    n_jobs = 1,\n",
    "                    step=1)\n",
    "    cnv.tl.pca(data)\n",
    "    \n",
    "    write_dest = \"/kyukon/scratch/gent/vo/000/gvo00027/projects/CBIGR/22VZZ_singlecellNB/metaanalysis_atlas/data/NBAtlas_h5ad/CNV_results/\" + study + \"_CNVresults.h5ad\"\n",
    "    data.write(write_dest)"
   ]
  },
  {
   "cell_type": "code",
   "execution_count": null,
   "id": "48da024d",
   "metadata": {},
   "outputs": [],
   "source": [
    "#Combine the CNV profile and their respective PCAs into one object\n",
    "\n",
    "c = 0\n",
    "for study in groups : \n",
    "    write_dest = \"/kyukon/scratch/gent/vo/000/gvo00027/projects/CBIGR/22VZZ_singlecellNB/metaanalysis_atlas/data/NBAtlas_h5ad/CNV_results/\" + study + \"_CNVresults.h5ad\"\n",
    "    if c == 0 :\n",
    "        cnv_data = sc.read(write_dest)\n",
    "        c +=1\n",
    "    else :\n",
    "        tmp = sc.read(write_dest)\n",
    "        cnv_data = sc.concat(adatas=[cnv_data, tmp])\n",
    "    \n",
    "cnv_data"
   ]
  },
  {
   "cell_type": "code",
   "execution_count": null,
   "metadata": {},
   "outputs": [],
   "source": [
    "#Also transfer all these info to integrated adata\n",
    "\n",
    "adata.obsm[\"X_cnv\"] = cnv_data.obsm[\"X_cnv\"]\n",
    "adata.obsm[\"X_cnv_pca\"] = cnv_data.obsm[\"X_cnv_pca\"]\n",
    "adata.obs[\"annot_NBN_iCNV\"] = pd.Categorical(cnv_clust[\"annot_NBN_iCNV\"])\n",
    "adata"
   ]
  },
  {
   "cell_type": "code",
   "execution_count": null,
   "metadata": {},
   "outputs": [],
   "source": [
    "#Also insert information about chromosome positions based on the genes\n",
    "\n",
    "adata.uns[\"cnv\"] = {'chr_pos': {'chr1': 0,\n",
    "  'chr10': 11356,\n",
    "  'chr11': 12328,\n",
    "  'chr12': 13608,\n",
    "  'chr13': 14825,\n",
    "  'chr14': 15389,\n",
    "  'chr15': 16223,\n",
    "  'chr16': 16953,\n",
    "  'chr17': 17893,\n",
    "  'chr18': 19207,\n",
    "  'chr19': 19560,\n",
    "  'chr2': 2361,\n",
    "  'chr20': 21053,\n",
    "  'chr21': 21699,\n",
    "  'chr22': 21972,\n",
    "  'chr3': 3928,\n",
    "  'chr4': 5329,\n",
    "  'chr5': 6259,\n",
    "  'chr6': 7355,\n",
    "  'chr7': 8587,\n",
    "  'chr8': 9703,\n",
    "  'chr9': 10488,\n",
    "  'chrX': 22547,\n",
    "  'chrY': 23421}}"
   ]
  },
  {
   "cell_type": "code",
   "execution_count": null,
   "metadata": {},
   "outputs": [],
   "source": [
    "#finally write externally the integrated atlas with inferCNVpy results\n",
    "write_dest = '/kyukon/scratch/gent/vo/000/gvo00027/projects/CBIGR/22VZZ_singlecellNB/metaanalysis_atlas/data/NBAtlas_h5ad/CNV_results/NBAtlas_Int_CNVresults_VZZ.h5ad'\n",
    "adata.write(write_dest)"
   ]
  },
  {
   "cell_type": "code",
   "execution_count": null,
   "metadata": {},
   "outputs": [],
   "source": [
    "cnv.pl.chromosome_heatmap(adata, groupby=\"Sample\", dendrogram = False, show=False, save = \"_CNVperstudy_All.png\")"
   ]
  }
 ],
 "metadata": {
  "kernelspec": {
   "display_name": "Python 3 (ipykernel)",
   "language": "python",
   "name": "python3"
  },
  "language_info": {
   "codemirror_mode": {
    "name": "ipython",
    "version": 3
   },
   "file_extension": ".py",
   "mimetype": "text/x-python",
   "name": "python",
   "nbconvert_exporter": "python",
   "pygments_lexer": "ipython3",
   "version": "3.9.5"
  }
 },
 "nbformat": 4,
 "nbformat_minor": 5
}
